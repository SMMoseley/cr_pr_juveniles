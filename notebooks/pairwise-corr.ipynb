{
 "cells": [
  {
   "cell_type": "markdown",
   "id": "8652f072-2580-4eed-8caf-37275955b6e8",
   "metadata": {},
   "source": [
    "# Noise (and signal) correlations\n",
    "\n",
    "This notebook analyzes the noise and signal correlation data calculated by the `scripts/pairwise_correlations.py` script."
   ]
  },
  {
   "cell_type": "code",
   "execution_count": null,
   "id": "09d8936c-873d-458b-8b1e-a9885ea2896f",
   "metadata": {},
   "outputs": [],
   "source": [
    "import <- function(pkg) { library(pkg, warn.conflicts=F, quietly=T, character.only=T) }\n",
    "import(\"repr\")\n",
    "import(\"stringr\")\n",
    "import(\"tidyr\")\n",
    "import(\"dplyr\")\n",
    "import(\"ggplot2\")\n",
    "import(\"lme4\")\n",
    "import(\"emmeans\")"
   ]
  },
  {
   "cell_type": "code",
   "execution_count": null,
   "id": "b18ffef2-66ae-42d9-8517-9aea8de40ebe",
   "metadata": {},
   "outputs": [],
   "source": [
    "options(repr.matrix.max.cols=15, repr.matrix.max.rows=20)\n",
    "my.theme <- theme(legend.text=element_text(size=5),\n",
    "                  legend.title=element_text(size=6),\n",
    "                  plot.title = element_text(size=8, hjust=0.5),\n",
    "                  axis.line=element_line(linewidth=0.25),\n",
    "                  axis.ticks=element_line(linewidth=0.25),\n",
    "                  axis.title=element_text(size=8),\n",
    "                  axis.text=element_text(size=6),\n",
    "                  strip.placement=\"outside\",\n",
    "                  strip.text=element_text(size=8),\n",
    "                  strip.background=element_blank())\n",
    "no.legend <- theme(legend.position=\"none\")\n",
    "update_geom_defaults(\"point\", list(fill=\"white\", shape=21, size=1.1))\n",
    "update_geom_defaults(\"line\", list(linewidth=0.25))\n"
   ]
  },
  {
   "cell_type": "markdown",
   "id": "6cc58054-6a15-45fa-898d-c652a8a2c71e",
   "metadata": {
    "tags": []
   },
   "source": [
    "## Loading data and first steps of analysis"
   ]
  },
  {
   "cell_type": "code",
   "execution_count": null,
   "id": "3ee678ca-73c4-4175-8ea3-b8f22dec3ff1",
   "metadata": {},
   "outputs": [],
   "source": [
    "# Metadata\n",
    "birds <- data.table::fread(\"../inputs/bird_metadata.csv\")\n",
    "sites <- data.table::fread(\"../inputs/recording_metadata.csv\")\n",
    "all_sites <- (\n",
    "   sites\n",
    "   |> mutate(bird=str_match(site, \"[:alnum:]+\")[,1])\n",
    "   |> inner_join(birds, by=\"bird\")\n",
    "   |> filter(area %in% c(\"deep\", \"intermediate\", \"superficial\"), stim_amplitude == \"okay\")\n",
    "   |> mutate(area=forcats::fct_recode(area, \"L1/CM\"=\"superficial\", \"L2a/L2b\"=\"intermediate\", \"L3/NCM\"=\"deep\") |> forcats::fct_relevel(c(\"L2a/L2b\", \"L1/CM\", \"L3/NCM\")),\n",
    "             group=factor(group, levels=c(\"CR\", \"PR\")))\n",
    ")"
   ]
  },
  {
   "cell_type": "code",
   "execution_count": null,
   "id": "0422ce4f-3840-4de4-939e-6d28ed81bfaa",
   "metadata": {},
   "outputs": [],
   "source": [
    "# Need to have run `python scripts/unit_waveforms.py -o build inputs/all_units.txt`\n",
    "unit_spike_features <- (\n",
    "    data.table::fread(\"../build/mean_spike_features.csv\") %>%\n",
    "    mutate(spike=factor(spike, levels=c(\"wide\", \"narrow\"), exclude=\"\")) %>%\n",
    "    filter(!is.na(spike))\n",
    ")\n",
    "# Need to have run `single-unit-analysis` notebook to identify responsive units\n",
    "responsive_units <- data.table::fread(\"../inputs/responsive_units.txt\", header=F, col.names=c(\"unit\"))\n",
    "    \n",
    "# Need to have run `scripts/extract_channel.py inputs/all_units.txt > build/unit_channels.csv\"\n",
    "units <- (\n",
    "    data.table::fread(\"../build/unit_channels.csv\")\n",
    "    |> semi_join(responsive_units, by=\"unit\")\n",
    "    |> inner_join(unit_spike_features |> select(unit, spike), by=\"unit\")\n",
    ")"
   ]
  },
  {
   "cell_type": "code",
   "execution_count": null,
   "id": "aded9716-5826-4930-830e-522131931c9b",
   "metadata": {},
   "outputs": [],
   "source": [
    "# Pairwise correlations. Need to have run `batch/pairwise_correlations.sh < inputs/recording_metadata.csv`u\n",
    "header <- data.table::fread(cmd='find ../build/ -name \"*_correlations.csv\" | head -n1 | xargs head -n1', header=T)\n",
    "unit_correlations <- tibble(data.table::fread(cmd='find ../build/ -name \"*_correlations.csv\" | xargs tail -q -n+2', header=F))\n",
    "names(unit_correlations) <- names(header)"
   ]
  },
  {
   "cell_type": "code",
   "execution_count": null,
   "id": "841ef24d-f2fd-46cd-8eb9-26aeae04bef5",
   "metadata": {},
   "outputs": [],
   "source": [
    "ucorr <- (\n",
    "    unit_correlations\n",
    "    # drop all comparisons where signal or noise correlation can't be calculated (typically because responses are too weak)\n",
    "    |> filter(!is.na(evoked_noise), !is.na(signal))\n",
    "    # look up channel and spike type. This will also remove non-responsive units\n",
    "    |> inner_join(units |> rename_with(function(s) str_c(s, \"_1\")), by=\"unit_1\")\n",
    "    |> inner_join(units |> rename_with(function(s) str_c(s, \"_2\")), by=\"unit_2\")\n",
    "    # exclude pairs on the same electrode (might change this if we calculate distance)\n",
    "    |> filter(channel_1 != channel_2)\n",
    "    |> mutate(site=str_match(unit_1, \"[:alnum:]+_\\\\d+_\\\\d+\")[,1])\n",
    "    |> inner_join(all_sites, by=\"site\")\n",
    "    |> mutate(conn_type=ifelse(spike_1==\"wide\", ifelse(spike_2==\"wide\", \"E-E\", \"E-I\"), ifelse(spike_2==\"wide\", \"E-I\", \"I-I\")))\n",
    ")"
   ]
  },
  {
   "cell_type": "code",
   "execution_count": null,
   "id": "3abe08a9-1a7d-43f3-acb6-c7889c70f82c",
   "metadata": {},
   "outputs": [],
   "source": [
    "ucorr"
   ]
  },
  {
   "cell_type": "code",
   "execution_count": null,
   "id": "e1c3a751-0f69-4c5d-85e8-0c46bc86cb5d",
   "metadata": {},
   "outputs": [],
   "source": [
    "ucorr_sites <- (\n",
    "    ucorr\n",
    "    |> group_by(group, area, site, conn_type)\n",
    "    |> filter(n() > 5)\n",
    "    |> summarize(evoked_noise_c=mean(evoked_noise_c))\n",
    ")\n",
    "ucorr_sites"
   ]
  },
  {
   "cell_type": "markdown",
   "id": "90e858dd-1abd-4d63-8f01-ce71060a9d29",
   "metadata": {},
   "source": [
    "### Raw data plots"
   ]
  },
  {
   "cell_type": "code",
   "execution_count": null,
   "id": "941bfc05-7a5b-4c02-aa37-044ac6bf5728",
   "metadata": {},
   "outputs": [],
   "source": [
    "options(repr.plot.width=4, repr.plot.height=2.5, repr.plot.res = 300)\n",
    "(\n",
    "    ucorr\n",
    "    |> ggplot(aes(conn_type, evoked_noise_c, color=group))\n",
    "    + facet_grid(~ area)\n",
    "    + geom_violin()\n",
    "    + stat_summary(fun.data=\"mean_se\", fatten=1.5, position=position_dodge(width=1.0))\n",
    "    + theme_classic() + my.theme\n",
    ")"
   ]
  },
  {
   "cell_type": "code",
   "execution_count": null,
   "id": "165512dc-1c67-416e-9eef-fe738656b7a6",
   "metadata": {},
   "outputs": [],
   "source": [
    "options(repr.plot.width=4, repr.plot.height=2.5, repr.plot.res = 300)\n",
    "(\n",
    "    ucorr\n",
    "    |> ggplot(aes(conn_type, spont_noise_c, color=group))\n",
    "    + facet_grid(~ area)\n",
    "    + geom_violin()\n",
    "    + stat_summary(fun.data=\"mean_se\", fatten=1.5, position=position_dodge(width=1.0))\n",
    "    + theme_classic() + my.theme\n",
    ")"
   ]
  },
  {
   "cell_type": "markdown",
   "id": "b1153197-21f0-4507-8a54-c1170d2c99ec",
   "metadata": {},
   "source": [
    "### Evoked noise correlation - linear model - pairs"
   ]
  },
  {
   "cell_type": "code",
   "execution_count": null,
   "id": "fdfec52d-7672-4d3a-be0d-fcfd707ecc86",
   "metadata": {},
   "outputs": [],
   "source": [
    "fm_corr <- lm(evoked_noise_c ~ area*conn_type*group, ucorr)\n",
    "emmeans(fm_corr, ~ group | conn_type*area) |> contrast(\"pairwise\")"
   ]
  },
  {
   "cell_type": "code",
   "execution_count": null,
   "id": "6d08f542-8d76-4d7e-9ec2-20e13edcecc6",
   "metadata": {},
   "outputs": [],
   "source": [
    "p <- (\n",
    "    fm_corr\n",
    "    |> emmeans(~ group*conn_type*area)\n",
    "    |> confint(level=0.90, type=\"response\")\n",
    "    |> ggplot(aes(conn_type, emmean, color=group))\n",
    "    + facet_wrap(~ area)\n",
    "    + geom_pointrange(aes(ymin=lower.CL, ymax=upper.CL), fatten=1.5, position=position_dodge(width=0.5))\n",
    "    + theme_classic() + my.theme\n",
    ")\n",
    "p "
   ]
  },
  {
   "cell_type": "markdown",
   "id": "83c19163-d2f6-4ce2-8899-16ebaae7d75c",
   "metadata": {},
   "source": [
    "### Spontaneous noise correlation - linear model - pairs"
   ]
  },
  {
   "cell_type": "code",
   "execution_count": null,
   "id": "6e370de5-cdd1-4c62-83b6-c5958cac3d3e",
   "metadata": {},
   "outputs": [],
   "source": [
    "fm_corr <- lm(spont_noise_c ~ area*conn_type*group, ucorr)\n",
    "emmeans(fm_corr, ~ group | conn_type*area) |> contrast(\"pairwise\")"
   ]
  },
  {
   "cell_type": "code",
   "execution_count": null,
   "id": "ee675b55-35ac-414f-a6c9-a779416d58a9",
   "metadata": {},
   "outputs": [],
   "source": [
    "p <- (\n",
    "    fm_corr\n",
    "    |> emmeans(~ group*conn_type*area)\n",
    "    |> confint(level=0.90, type=\"response\")\n",
    "    |> ggplot(aes(conn_type, emmean, color=group))\n",
    "    + facet_wrap(~ area)\n",
    "    + geom_pointrange(aes(ymin=lower.CL, ymax=upper.CL), fatten=1.5, position=position_dodge(width=0.5))\n",
    "    + theme_classic() + my.theme\n",
    ")\n",
    "p "
   ]
  },
  {
   "cell_type": "markdown",
   "id": "8a9fcf69-a86d-4c30-9a9c-e23d7ae82102",
   "metadata": {},
   "source": [
    "### Linear model - sites"
   ]
  },
  {
   "cell_type": "code",
   "execution_count": null,
   "id": "73b3841e-bc3a-4d5a-8628-9b43f236c924",
   "metadata": {},
   "outputs": [],
   "source": [
    "fm_corr <- lm(evoked_noise_c ~ area*conn_type*group, ucorr_sites)\n",
    "emmeans(fm_corr, ~ group | conn_type*area) |> contrast(\"pairwise\")"
   ]
  },
  {
   "cell_type": "code",
   "execution_count": null,
   "id": "f8f1be81-af4a-4b1d-9a29-f660cd807cc4",
   "metadata": {},
   "outputs": [],
   "source": [
    "p <- (\n",
    "    fm_corr\n",
    "    |> emmeans(~ group*conn_type*area)\n",
    "    |> confint(level=0.90, type=\"response\")\n",
    "    |> ggplot(aes(conn_type, emmean, color=group))\n",
    "    + facet_wrap(~ area)\n",
    "    + geom_pointrange(aes(ymin=lower.CL, ymax=upper.CL), fatten=1.5, position=position_dodge(width=0.5))\n",
    "    + theme_classic() + my.theme\n",
    ")\n",
    "p "
   ]
  },
  {
   "cell_type": "markdown",
   "id": "693adc44-478b-44af-baf1-77a8edca042e",
   "metadata": {},
   "source": [
    "### With random effects"
   ]
  },
  {
   "cell_type": "code",
   "execution_count": null,
   "id": "e4577923-18b3-47c1-aad1-1d03de8ec026",
   "metadata": {},
   "outputs": [],
   "source": [
    "fm_corr <- lmer(evoked_noise_c ~ area*conn_type*group + (1+conn_type|site), ucorr, control=lmerControl(optimizer=\"bobyqa\"))\n",
    "emmeans(fm_corr, ~ group | conn_type*area) |> contrast(\"pairwise\")"
   ]
  },
  {
   "cell_type": "code",
   "execution_count": null,
   "id": "050546b0-12d3-40d9-8680-1a5c54273eea",
   "metadata": {},
   "outputs": [],
   "source": [
    "p <- (\n",
    "    fm_corr\n",
    "    |> emmeans(~ group*conn_type*area)\n",
    "    |> confint(level=0.90, type=\"response\")\n",
    "    |> ggplot(aes(conn_type, emmean, color=group))\n",
    "    + facet_wrap(~ area)\n",
    "    + geom_pointrange(aes(ymin=asymp.LCL, ymax=asymp.UCL), fatten=1.5, position=position_dodge(width=0.5))\n",
    "    + theme_classic() + my.theme\n",
    ")\n",
    "p "
   ]
  },
  {
   "cell_type": "markdown",
   "id": "2a6eb50c-51d0-42f3-9ed0-ada12d7252ac",
   "metadata": {},
   "source": [
    "### Noise vs signal"
   ]
  },
  {
   "cell_type": "code",
   "execution_count": null,
   "id": "7d4282d4-679f-4acf-a2ec-9b40931a1510",
   "metadata": {},
   "outputs": [],
   "source": [
    "options(repr.plot.width=4, repr.plot.height=4, repr.plot.res = 300)\n",
    "(\n",
    "    ucorr\n",
    "    |> ggplot(aes(signal, evoked_noise_c, color=group))\n",
    "    + facet_grid(conn_type ~ area)\n",
    "    + geom_point()\n",
    "    + stat_smooth(method=\"lm\")\n",
    ")"
   ]
  },
  {
   "cell_type": "code",
   "execution_count": null,
   "id": "7ca9fee4-cca3-4a24-817f-760d449ec3a8",
   "metadata": {},
   "outputs": [],
   "source": [
    "# spontaneous vs evoked\n",
    "options(repr.plot.width=4, repr.plot.height=4, repr.plot.res = 300)\n",
    "(\n",
    "    ucorr\n",
    "    |> ggplot(aes(evoked_noise_c, spont_noise_c, color=group))\n",
    "    + facet_grid(conn_type ~ area)\n",
    "    + geom_point()\n",
    "    + stat_smooth(method=\"lm\")\n",
    ")"
   ]
  },
  {
   "cell_type": "code",
   "execution_count": null,
   "id": "d04b07bf-a81b-4438-8240-376ebf630710",
   "metadata": {},
   "outputs": [],
   "source": [
    "(\n",
    "    ucorr\n",
    "    |> mutate(signal_group=cut(signal, c(-2, -0.4, 0.4, 2), labels=c(\"negative\", \"mid\", \"high\")))\n",
    "    |> ggplot(aes(signal_group, noise_corrected, color=group))\n",
    "    + facet_grid(conn_type ~ area)\n",
    "    + stat_summary(fun.data=\"mean_se\", fatten=1.5, position=position_dodge(width=0.5))\n",
    "    + theme_classic() + my.theme\n",
    ")"
   ]
  },
  {
   "cell_type": "code",
   "execution_count": null,
   "id": "139841ee-4e44-40e4-b3f2-cdfe7c536ac6",
   "metadata": {},
   "outputs": [],
   "source": []
  }
 ],
 "metadata": {
  "kernelspec": {
   "display_name": "R 4.3",
   "language": "R",
   "name": "ir43"
  },
  "language_info": {
   "codemirror_mode": "r",
   "file_extension": ".r",
   "mimetype": "text/x-r-source",
   "name": "R",
   "pygments_lexer": "r",
   "version": "4.3.3"
  }
 },
 "nbformat": 4,
 "nbformat_minor": 5
}
