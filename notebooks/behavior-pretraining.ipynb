{
 "cells": [
  {
   "cell_type": "code",
   "execution_count": null,
   "id": "08dd1f20-b5db-4c7a-b8a9-2096d7d8036d",
   "metadata": {},
   "outputs": [],
   "source": [
    "import <- function(pkg) { library(pkg, warn.conflicts=F, quietly=T, character.only=T) }\n",
    "import(\"repr\")\n",
    "import(\"stringr\")\n",
    "import(\"tidyr\")\n",
    "import(\"dplyr\")\n",
    "import(\"ggplot2\")\n",
    "import(\"lme4\")\n",
    "import(\"emmeans\")"
   ]
  },
  {
   "cell_type": "code",
   "execution_count": null,
   "id": "d685e1a9-c1f8-43b1-8b7c-8105fc313110",
   "metadata": {},
   "outputs": [],
   "source": [
    "options(repr.matrix.max.cols=15, repr.matrix.max.rows=20)\n",
    "options(repr.plot.width=2, repr.plot.height=1.25, repr.plot.res = 300)\n",
    "\n",
    "my.theme <- theme(legend.text=element_text(size=5),\n",
    "                  legend.title=element_text(size=6),\n",
    "                  plot.title = element_text(size=8, hjust=0.5),\n",
    "                  axis.line=element_line(linewidth=0.25),\n",
    "                  axis.ticks=element_line(linewidth=0.25),\n",
    "                  axis.title=element_text(size=8),\n",
    "                  axis.text=element_text(size=6),\n",
    "                  strip.placement=\"outside\",\n",
    "                  strip.text=element_text(size=8),\n",
    "                  strip.background=element_blank())\n",
    "no.legend <- theme(legend.position=\"none\")\n",
    "update_geom_defaults(\"point\", list(fill=\"white\", shape=21, size=1.1))\n",
    "update_geom_defaults(\"line\", list(linewidth=0.25))"
   ]
  },
  {
   "cell_type": "markdown",
   "id": "c8d35b84-b9bc-4057-92f3-4e8f4aba686f",
   "metadata": {},
   "source": [
    "## Load trial data"
   ]
  },
  {
   "cell_type": "code",
   "execution_count": null,
   "id": "92066c4b-87bc-41ef-a267-be1f0ea0729f",
   "metadata": {},
   "outputs": [],
   "source": [
    "## metadata\n",
    "birds <- data.table::fread(\"../inputs/bird_metadata.csv\") |> filter(behavior==\"yes\")"
   ]
  },
  {
   "cell_type": "code",
   "execution_count": null,
   "id": "0a58b3b3-7d33-4071-8ea0-44f063416e2d",
   "metadata": {},
   "outputs": [],
   "source": [
    "## trials - retrieved with batch/retrieve_trials\n",
    "header <- data.table::fread(cmd='find ../build/ -name \"*pretrain*_trials.csv\" | head -n1 | xargs head -n1', header=T)\n",
    "all_trials <- tibble(data.table::fread(cmd='find ../build/ -name \"*pretrain*_trials.csv\" | xargs tail -q -n+2', header=F))\n",
    "names(all_trials) <- names(header)"
   ]
  },
  {
   "cell_type": "code",
   "execution_count": null,
   "id": "f490f6c6-ec4f-4e74-8cbe-1e0682874df5",
   "metadata": {},
   "outputs": [],
   "source": [
    "# sanity check - each stimulus/response should only have one consequence\n",
    "(\n",
    "    all_trials\n",
    "    |> group_by(subject, stimulus, response, correct)\n",
    "    |> tally()\n",
    "    |> tally()#\n",
    "    |> filter(n > 1)\n",
    ")"
   ]
  },
  {
   "cell_type": "code",
   "execution_count": null,
   "id": "5d0755c5-cb7e-4061-a68a-084fd7ae8863",
   "metadata": {},
   "outputs": [],
   "source": [
    "# sanity check: no big skips in the dates, which could indicate trials recorded with the wrong subject\n",
    "# NB the gap with C197 is due to a clock error. The missing days are put in the right place using trial id.\n",
    "options(repr.plot.width=10, repr.plot.height=5, repr.plot.res = 300)\n",
    "(\n",
    "    all_trials\n",
    "    |> mutate(date=lubridate::date(time))\n",
    "    |> group_by(subject, date)\n",
    "    |> tally()\n",
    "    |> ggplot(aes(date, n))\n",
    "    + facet_wrap(~ subject, scale=\"free\")\n",
    "    + geom_point()\n",
    ")"
   ]
  },
  {
   "cell_type": "code",
   "execution_count": null,
   "id": "ac628a31-554a-446a-b437-77e19600838b",
   "metadata": {},
   "outputs": [],
   "source": [
    "## just the pretraining\n",
    "block_size <- 100\n",
    "trials <- (\n",
    "    all_trials \n",
    "    |> group_by(subject)\n",
    "    |> arrange(id)\n",
    "    ## remove all trials cued with a light\n",
    "    #|> filter(str_length(lights)==0) # filter(is.na(lights))\n",
    "    ## trials are considered to be corrections if the stimulus was repeated and the previous trial was incorrect\n",
    "    |> mutate(noresp=(response == \"timeout\") * 1,\n",
    "              stim_left=1 - xor(response==\"peck_left\", correct),\n",
    "              peck_left=ifelse(noresp, NA, (response == \"peck_left\") * 1),\n",
    "              correct=ifelse(noresp, NA, correct * 1),\n",
    "              trial=row_number(),\n",
    "              tot_rewarded=cumsum(result==\"feed\"),\n",
    "              tot_noresp=cumsum(response==\"timeout\"),\n",
    "              ## trials are considered to be corrections if the stimulus was repeated and the previous trial was incorrect\n",
    "              inferred_correction=(lag(stimulus)==stimulus & lag(!correct)))\n",
    "\n",
    ")\n",
    "valid_trials <- (\n",
    "    trials\n",
    "    |> filter(str_length(lights)==0, !inferred_correction, response != \"peck_center\") \n",
    "    |> mutate(time=row_number())\n",
    ")\n",
    "\n",
    "valid_trials |> inner_join(birds, by=c(subject=\"bird\")) |> group_by(group, subject) |> tally()"
   ]
  },
  {
   "cell_type": "markdown",
   "id": "6c6f4417-7d61-47ae-8ffe-dcc539ea00f6",
   "metadata": {},
   "source": [
    "## Example learning curves"
   ]
  },
  {
   "cell_type": "code",
   "execution_count": null,
   "id": "5061c705-3600-4e6f-b4e9-5a1d2cf40b11",
   "metadata": {},
   "outputs": [],
   "source": [
    "example_trials <- filter(valid_trials, subject==\"C313\")\n",
    "head(example_trials)"
   ]
  },
  {
   "cell_type": "code",
   "execution_count": null,
   "id": "2d19c54d-b321-413a-b2cf-448168854fce",
   "metadata": {},
   "outputs": [],
   "source": [
    "blocked_timeouts <- (\n",
    "    example_trials\n",
    "    |> filter(str_length(lights)==0)\n",
    "    |> group_by(subject)\n",
    "    |> mutate(block=factor(floor(row_number() / block_size)), y=response==\"timeout\")\n",
    ")\n",
    "\n",
    "p_timeout <- (\n",
    "    glm(y ~ block, data=blocked_timeouts, family=binomial)\n",
    "    |> emmeans(~ block) \n",
    "    |> confint(level=0.90, type=\"response\")\n",
    "    |> inner_join(blocked_timeouts |> group_by(subject, block) |> summarize(index_trial=median(trial), n_trials=n()), by=\"block\")\n",
    "    |> filter(n_trials > 20)\n",
    ")"
   ]
  },
  {
   "cell_type": "code",
   "execution_count": null,
   "id": "ba561474-f550-412d-a2b5-cab6abba5938",
   "metadata": {},
   "outputs": [],
   "source": [
    "blocked_pecks <- (\n",
    "    example_trials\n",
    "    |> filter(response != \"timeout\")\n",
    "    |> filter(str_length(lights)==0)\n",
    "    |> group_by(subject)\n",
    "    |> mutate(block=factor(floor(row_number() / block_size)), y=response==\"peck_left\")\n",
    ")\n",
    "\n",
    "p_left <- (\n",
    "    glm(y ~ block*stim_left, data=blocked_pecks, family=binomial)\n",
    "    |> emmeans(~ block/stim_left) \n",
    "    |> confint(level=0.90, type=\"response\")\n",
    "    |> inner_join(blocked_pecks |> group_by(subject, block) |> summarize(index_trial=median(trial), n_trials=n()), by=\"block\")\n",
    "    |> filter(n_trials > 20)\n",
    "    |> mutate(stim_left=factor(stim_left))\n",
    ")"
   ]
  },
  {
   "cell_type": "code",
   "execution_count": null,
   "id": "b4a05653-5c97-47a1-a827-e7a62ac1966b",
   "metadata": {
    "scrolled": true
   },
   "outputs": [],
   "source": [
    "options(repr.plot.width=2, repr.plot.height=1.25, repr.plot.res = 300)\n",
    "p <- (\n",
    "    ggplot(mapping=aes(index_trial, prob))\n",
    "    + geom_line(data=p_timeout)\n",
    "    + geom_line(data=p_left, aes(color=stim_left, group=stim_left))\n",
    "    + scale_x_continuous(\"Trial\")\n",
    "    + scale_y_continuous(\"Prob\")\n",
    ")\n",
    "p + theme_classic() + my.theme + no.legend"
   ]
  },
  {
   "cell_type": "code",
   "execution_count": null,
   "id": "111c2159-6fa4-4a86-b61a-a48a17448cb9",
   "metadata": {},
   "outputs": [],
   "source": [
    "pdf(\"../figures/2ac_example_C294.pdf\", width=2, height=1.25)\n",
    "print(p + theme_classic() + my.theme + no.legend)\n",
    "dev.off()"
   ]
  },
  {
   "cell_type": "code",
   "execution_count": null,
   "id": "b9a91e51-8f0e-4495-9466-813ee4f2398e",
   "metadata": {},
   "outputs": [],
   "source": [
    "p_correct <- (\n",
    "    glm(correct ~ factor(block)*stim_left, data=blocked_pecks, family=binomial)\n",
    "    |> emmeans(~ block/stim_left) \n",
    "    |> confint(level=0.90, type=\"response\")\n",
    "    |> inner_join(blocked_pecks |> group_by(subject, block) |> summarize(index_trial=median(trial), n_trials=n()), by=\"block\")\n",
    "    |> filter(n_trials > 20)\n",
    "    |> mutate(stim_left=factor(stim_left))\n",
    ")"
   ]
  },
  {
   "cell_type": "code",
   "execution_count": null,
   "id": "22a21375-3129-464d-b3e1-6f9fbe8f06fd",
   "metadata": {},
   "outputs": [],
   "source": [
    "options(repr.plot.width=2, repr.plot.height=1.25, repr.plot.res = 300)\n",
    "p <- (\n",
    "    ggplot(mapping=aes(index_trial, prob))\n",
    "    + geom_line(data=p_timeout)\n",
    "    + geom_line(data=p_correct, aes(color=stim_left, group=stim_left))\n",
    "    + scale_x_continuous(\"Trial\")\n",
    "    + scale_y_continuous(\"Prob\")\n",
    ")\n",
    "p + theme_classic() + my.theme + no.legend"
   ]
  },
  {
   "cell_type": "markdown",
   "id": "a74dd40d-82fd-423b-b545-5e3098592a90",
   "metadata": {},
   "source": [
    "## Trials to criterion"
   ]
  },
  {
   "cell_type": "code",
   "execution_count": null,
   "id": "dd6d5e3e-ffd6-4bb1-bf14-cd3866bf8396",
   "metadata": {},
   "outputs": [],
   "source": [
    "blocked_pecks <- (\n",
    "    valid_trials\n",
    "    |> filter(response != \"timeout\")\n",
    "    |> filter(str_length(lights)==0)\n",
    "    |> filter(!inferred_correction)\n",
    "    |> group_by(subject)\n",
    "    |> mutate(block=floor(row_number() / block_size))\n",
    ")\n",
    "trials_to_criterion <- (\n",
    "    blocked_pecks\n",
    "    |> group_by(subject, block)\n",
    "    |> summarize(index_trial=first(trial), n_trials=n(), n_correct=sum(correct), p_correct=n_correct/n_trials)\n",
    "    |> filter(p_correct > 0.8)\n",
    "    |> summarize(criterion_trial=first(index_trial))\n",
    "    |> inner_join(birds, by=c(subject=\"bird\"))\n",
    ")\n",
    "trials_to_criterion |> arrange(group)"
   ]
  },
  {
   "cell_type": "code",
   "execution_count": null,
   "id": "eb2282dd-f6d8-4198-8885-0e092b5c81f9",
   "metadata": {},
   "outputs": [],
   "source": [
    "# exclude C197 for now - accuracy was above 80% but had massive key bias\n",
    "trials_to_criterion <- filter(trials_to_criterion, subject !=\"C197\")"
   ]
  },
  {
   "cell_type": "code",
   "execution_count": null,
   "id": "232a5326-7edd-4fb7-859f-fd6cfa258778",
   "metadata": {},
   "outputs": [],
   "source": [
    "options(repr.plot.width=1.5, repr.plot.height=2, repr.plot.res = 300)\n",
    "p <- (\n",
    "    ggplot(trials_to_criterion, aes(group, criterion_trial))\n",
    "    + geom_boxplot(width=0.2)\n",
    "    # + geom_point(aes(color=sex))\n",
    "    # + stat_summary(fun.data=\"mean_se\")\n",
    "    + scale_y_continuous(\"Trials\")\n",
    "    + scale_x_discrete(NULL)\n",
    "    + ggtitle(\"Trials to Criterion\\n(80% correct)\")\n",
    ")\n",
    "p + theme_classic() + my.theme"
   ]
  },
  {
   "cell_type": "code",
   "execution_count": null,
   "id": "7aeb2c41-f358-4e37-bfbc-762146334c2e",
   "metadata": {},
   "outputs": [],
   "source": [
    "options(repr.plot.width=3, repr.plot.height=2.5, repr.plot.res = 300)\n",
    "p <- (\n",
    "    ggplot(trials_to_criterion, aes(age, criterion_trial))\n",
    "    + geom_point(aes(color=group))\n",
    ")\n",
    "p + theme_classic() + my.theme"
   ]
  },
  {
   "cell_type": "code",
   "execution_count": null,
   "id": "486cd70a-6a21-4afc-8862-0cf89b6e45cd",
   "metadata": {},
   "outputs": [],
   "source": [
    "t.test(criterion_trial ~ group, trials_to_criterion)"
   ]
  },
  {
   "cell_type": "code",
   "execution_count": null,
   "id": "92671706-de33-4ea2-9f50-0a7a0ab6b9c3",
   "metadata": {},
   "outputs": [],
   "source": [
    "blocked_timeouts <- (\n",
    "    trials\n",
    "    |> filter(str_length(lights)==0)\n",
    "    |> group_by(subject)\n",
    "    |> mutate(block=floor(row_number() / block_size))\n",
    ")\n",
    "p_timeout <- (\n",
    "    blocked_timeouts\n",
    "    |> group_by(subject, block)\n",
    "    |> summarize(index_trial=first(trial), n_trials=n(), n_timeout=sum(response==\"timeout\"), p_timeout=n_timeout/n_trials)\n",
    "    |> arrange(block)\n",
    "    |> summarize(p_timeout=last(p_timeout))\n",
    "    |> inner_join(birds, by=c(subject=\"bird\"))\n",
    "    |> arrange(group)\n",
    ")"
   ]
  },
  {
   "cell_type": "code",
   "execution_count": null,
   "id": "42d69ba1-4a80-4884-9492-4a73d968950e",
   "metadata": {},
   "outputs": [],
   "source": [
    "p <- (\n",
    "    ggplot(p_timeout, aes(group, p_timeout))\n",
    "    + geom_boxplot(width=0.2, outlier.size=1)\n",
    "    + scale_y_continuous(\"Prob\", limits=c(0,1))\n",
    "    + scale_x_discrete(NULL)\n",
    "    + ggtitle(\"p(no resp)\\n[last block]\")\n",
    ")\n",
    "p + theme_classic() + my.theme"
   ]
  },
  {
   "cell_type": "code",
   "execution_count": null,
   "id": "bf353746-e8a2-4317-a980-6ddcd58f0cc3",
   "metadata": {},
   "outputs": [],
   "source": [
    "wilcox.test(p_timeout ~ group, p_timeout)"
   ]
  },
  {
   "cell_type": "markdown",
   "id": "90071b5f-8d48-4bba-b488-d12d86c92ae5",
   "metadata": {},
   "source": [
    "## Training"
   ]
  },
  {
   "cell_type": "code",
   "execution_count": null,
   "id": "c768423e-135e-434c-b7bb-6d4d06756657",
   "metadata": {},
   "outputs": [],
   "source": [
    "## trials - retrieved with batch/retrieve_trials\n",
    "header <- data.table::fread(cmd='find ../build/ -name \"*_train_trials.csv\" | head -n1 | xargs head -n1', header=T)\n",
    "all_trials <- tibble(data.table::fread(cmd='find ../build/ -name \"*_train_trials.csv\" | xargs tail -q -n+2', header=F))\n",
    "names(all_trials) <- names(header)"
   ]
  },
  {
   "cell_type": "code",
   "execution_count": null,
   "id": "7f9ce487-98a4-4796-98b6-40501cdcdf76",
   "metadata": {},
   "outputs": [],
   "source": [
    "## just the training\n",
    "block_size <- 100\n",
    "trials <- (\n",
    "    all_trials \n",
    "    |> group_by(subject)\n",
    "    |> arrange(time)\n",
    "    ## remove all trials cued with a light\n",
    "    #|> filter(str_length(lights)==0) # filter(is.na(lights))\n",
    "    ## trials are considered to be corrections if the stimulus was repeated and the previous trial was incorrect\n",
    "    |> mutate(noresp=(response == \"timeout\") * 1,\n",
    "              stim_left=1 - xor(response==\"peck_left\", correct),\n",
    "              peck_left=ifelse(noresp, NA, (response == \"peck_left\") * 1),\n",
    "              correct=ifelse(noresp, NA, correct * 1),\n",
    "              trial=row_number(),\n",
    "              tot_rewarded=cumsum(result==\"feed\"),\n",
    "              tot_noresp=cumsum(response==\"timeout\"),\n",
    "              ## trials are considered to be corrections if the stimulus was repeated and the previous trial was incorrect\n",
    "              inferred_correction=(lag(stimulus)==stimulus & lag(!correct)))\n",
    "\n",
    ")\n",
    "\n",
    "valid_trials <- (\n",
    "    trials\n",
    "    |> filter(str_length(lights)==0, !inferred_correction, response != \"peck_center\") \n",
    "    |> mutate(time=row_number())\n",
    ")\n",
    "\n",
    "valid_trials |> inner_join(birds, by=c(subject=\"bird\")) |> group_by(group, subject) |> tally()"
   ]
  },
  {
   "cell_type": "code",
   "execution_count": null,
   "id": "65028b1a-16bf-4916-9056-e7b06206f33f",
   "metadata": {},
   "outputs": [],
   "source": [
    "example_trials <- filter(valid_trials, subject==\"C235\")\n",
    "head(example_trials)"
   ]
  },
  {
   "cell_type": "code",
   "execution_count": null,
   "id": "5a4e7f3a-922c-4820-bf15-34127664eeaa",
   "metadata": {},
   "outputs": [],
   "source": [
    "blocked_timeouts <- (\n",
    "    example_trials\n",
    "    |> filter(str_length(lights)==0)\n",
    "    |> group_by(subject)\n",
    "    |> mutate(block=factor(floor(row_number() / block_size)), y=response==\"timeout\")\n",
    ")\n",
    "\n",
    "p_timeout <- (\n",
    "    glm(y ~ block, data=blocked_timeouts, family=binomial)\n",
    "    |> emmeans(~ block) \n",
    "    |> confint(level=0.90, type=\"response\")\n",
    "    |> inner_join(blocked_timeouts |> group_by(subject, block) |> summarize(index_trial=median(trial), n_trials=n()), by=\"block\")\n",
    "    |> filter(n_trials > 20)\n",
    ")"
   ]
  },
  {
   "cell_type": "code",
   "execution_count": null,
   "id": "5568575a-b12e-4239-ad78-c120a6f47257",
   "metadata": {},
   "outputs": [],
   "source": [
    "blocked_pecks <- (\n",
    "    example_trials\n",
    "    |> filter(response != \"timeout\")\n",
    "    |> filter(str_length(lights)==0)\n",
    "    |> group_by(subject)\n",
    "    |> mutate(block=factor(floor(row_number() / block_size)), y=response==\"peck_left\")\n",
    ")\n",
    "\n",
    "p_left <- (\n",
    "    glm(y ~ block*stim_left, data=blocked_pecks, family=binomial)\n",
    "    |> emmeans(~ block/stim_left) \n",
    "    |> confint(level=0.90, type=\"response\")\n",
    "    |> inner_join(blocked_pecks |> group_by(subject, block) |> summarize(index_trial=median(trial), n_trials=n()), by=\"block\")\n",
    "    |> filter(n_trials > 20)\n",
    "    |> mutate(stim_left=factor(stim_left))\n",
    ")"
   ]
  },
  {
   "cell_type": "code",
   "execution_count": null,
   "id": "a989b729-12b2-4bc0-bd1a-b530ee40d741",
   "metadata": {},
   "outputs": [],
   "source": [
    "options(repr.plot.width=2, repr.plot.height=1.25, repr.plot.res = 300)\n",
    "p <- (\n",
    "    ggplot(mapping=aes(index_trial, prob))\n",
    "    + geom_line(data=p_timeout)\n",
    "    + geom_line(data=p_left, aes(color=stim_left, group=stim_left))\n",
    "    + scale_x_continuous(\"Trial\")\n",
    "    + scale_y_continuous(\"Prob\")\n",
    ")\n",
    "p + theme_classic() + my.theme + no.legend"
   ]
  },
  {
   "cell_type": "code",
   "execution_count": null,
   "id": "748fd6d4-9fe9-47ca-9557-14524199936c",
   "metadata": {},
   "outputs": [],
   "source": []
  }
 ],
 "metadata": {
  "kernelspec": {
   "display_name": "R 4.3",
   "language": "R",
   "name": "ir43"
  },
  "language_info": {
   "codemirror_mode": "r",
   "file_extension": ".r",
   "mimetype": "text/x-r-source",
   "name": "R",
   "pygments_lexer": "r",
   "version": "4.3.3"
  }
 },
 "nbformat": 4,
 "nbformat_minor": 5
}
