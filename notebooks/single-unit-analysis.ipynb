{
 "cells": [
  {
   "cell_type": "code",
   "execution_count": 32,
   "id": "51cedd0a-aa84-4d45-8358-f06e52abad25",
   "metadata": {},
   "outputs": [],
   "source": [
    "import <- function(pkg) { library(pkg, warn.conflicts=F, quietly=T, character.only=T) }\n",
    "import(\"repr\")\n",
    "import(\"stringr\")\n",
    "import(\"tidyr\")\n",
    "import(\"dplyr\")\n",
    "import(\"ggplot2\")\n",
    "import(\"lme4\")\n",
    "import(\"emmeans\")"
   ]
  },
  {
   "cell_type": "code",
   "execution_count": 33,
   "id": "3e8a23f4-b2bc-4246-8a52-917738942f2e",
   "metadata": {},
   "outputs": [],
   "source": [
    "options(repr.matrix.max.cols=15, repr.matrix.max.rows=20)\n",
    "my.theme <- theme(legend.text=element_text(size=5),\n",
    "                  legend.title=element_text(size=5),\n",
    "                  plot.title = element_text(size=6, hjust=0.5),\n",
    "                  axis.line=element_line(linewidth=0.25),\n",
    "                  axis.ticks=element_line(linewidth=0.25),\n",
    "                  axis.ticks.length=unit(0.05, \"cm\"),\n",
    "                  axis.title=element_text(size=6),\n",
    "                  axis.text=element_text(size=5),\n",
    "                  strip.placement=\"outside\",\n",
    "                  strip.text=element_text(size=6),\n",
    "                  strip.background=element_blank())\n",
    "no.legend <- theme(legend.position=\"none\")\n",
    "update_geom_defaults(\"point\", list(fill=\"white\", shape=21, size=0.6))\n",
    "update_geom_defaults(\"line\", list(linewidth=0.25))\n"
   ]
  },
  {
   "cell_type": "markdown",
   "id": "8e4a0946-335a-45df-8464-34e39751b242",
   "metadata": {
    "tags": []
   },
   "source": [
    "## Loading data and first steps of analysis"
   ]
  },
  {
   "cell_type": "markdown",
   "id": "75ba30bf-aaf0-4611-a544-e90441c85d31",
   "metadata": {
    "tags": []
   },
   "source": [
    "### Metadata"
   ]
  },
  {
   "cell_type": "code",
   "execution_count": 64,
   "id": "c3498588-9088-4ce5-a2c4-a5de8f1a823f",
   "metadata": {},
   "outputs": [],
   "source": [
    "birds <- (\n",
    "    data.table::fread(\"../inputs/bird_metadata.csv\")\n",
    "    |> mutate(age_group = cut(age, c(0,20,35,121), labels = (c('J18','J30','Adult'))))\n",
    ")\n",
    "sites <- data.table::fread(\"../inputs/recording_metadata.csv\")\n",
    "all_sites <- (\n",
    "   sites\n",
    "   |> mutate(bird=str_match(site, \"[:alnum:]+\")[,1])\n",
    "   |> inner_join(birds, by=\"bird\")\n",
    "   |> filter(area %in% c(\"deep\", \"intermediate\", \"superficial\"), stim_amplitude == \"okay\")\n",
    "   |> filter(area =='deep')\n",
    "   |> mutate(area=forcats::fct_recode(area, \"L3/NCM\"=\"deep\") |> forcats::fct_relevel(c(\"L3/NCM\")),\n",
    "             group=factor(group, levels=c(\"CR\", \"PR\")))\n",
    ")\n"
   ]
  },
  {
   "cell_type": "code",
   "execution_count": 65,
   "id": "9309a629-7730-4fa5-a9de-00d0a3b342e5",
   "metadata": {},
   "outputs": [
    {
     "data": {
      "text/html": [
       "<table class=\"dataframe\">\n",
       "<caption>A data.table: 20 × 11</caption>\n",
       "<thead>\n",
       "\t<tr><th scope=col>site</th><th scope=col>hemisphere</th><th scope=col>area</th><th scope=col>stim_amplitude</th><th scope=col>bird</th><th scope=col>uuid</th><th scope=col>sex</th><th scope=col>group</th><th scope=col>age</th><th scope=col>sibling</th><th scope=col>age_group</th></tr>\n",
       "\t<tr><th scope=col>&lt;chr&gt;</th><th scope=col>&lt;chr&gt;</th><th scope=col>&lt;fct&gt;</th><th scope=col>&lt;chr&gt;</th><th scope=col>&lt;chr&gt;</th><th scope=col>&lt;chr&gt;</th><th scope=col>&lt;chr&gt;</th><th scope=col>&lt;fct&gt;</th><th scope=col>&lt;int&gt;</th><th scope=col>&lt;int&gt;</th><th scope=col>&lt;fct&gt;</th></tr>\n",
       "</thead>\n",
       "<tbody>\n",
       "\t<tr><td>C31_1_1     </td><td>L</td><td>L3/NCM</td><td>okay</td><td>C31     </td><td>6d0caa42</td><td>M</td><td>PR</td><td>108</td><td>2</td><td>Adult</td></tr>\n",
       "\t<tr><td>C31_2_1     </td><td>L</td><td>L3/NCM</td><td>okay</td><td>C31     </td><td>6d0caa42</td><td>M</td><td>PR</td><td>108</td><td>2</td><td>Adult</td></tr>\n",
       "\t<tr><td>C41_1_1     </td><td>L</td><td>L3/NCM</td><td>okay</td><td>C41     </td><td>d8d22a36</td><td>M</td><td>PR</td><td>104</td><td>4</td><td>Adult</td></tr>\n",
       "\t<tr><td>C41_2_1     </td><td>L</td><td>L3/NCM</td><td>okay</td><td>C41     </td><td>d8d22a36</td><td>M</td><td>PR</td><td>104</td><td>4</td><td>Adult</td></tr>\n",
       "\t<tr><td>C41_3_1     </td><td>L</td><td>L3/NCM</td><td>okay</td><td>C41     </td><td>d8d22a36</td><td>M</td><td>PR</td><td>104</td><td>4</td><td>Adult</td></tr>\n",
       "\t<tr><td>C41_6_1     </td><td>R</td><td>L3/NCM</td><td>okay</td><td>C41     </td><td>d8d22a36</td><td>M</td><td>PR</td><td>104</td><td>4</td><td>Adult</td></tr>\n",
       "\t<tr><td>C44_3_1     </td><td>L</td><td>L3/NCM</td><td>okay</td><td>C44     </td><td>471dcc13</td><td>M</td><td>PR</td><td>111</td><td>4</td><td>Adult</td></tr>\n",
       "\t<tr><td>C44_6_1     </td><td>R</td><td>L3/NCM</td><td>okay</td><td>C44     </td><td>471dcc13</td><td>M</td><td>PR</td><td>111</td><td>4</td><td>Adult</td></tr>\n",
       "\t<tr><td>R229_2_1    </td><td>L</td><td>L3/NCM</td><td>okay</td><td>R229    </td><td>098832ed</td><td>F</td><td>PR</td><td> 98</td><td>4</td><td>Adult</td></tr>\n",
       "\t<tr><td>R229_4_1    </td><td>R</td><td>L3/NCM</td><td>okay</td><td>R229    </td><td>098832ed</td><td>F</td><td>PR</td><td> 98</td><td>4</td><td>Adult</td></tr>\n",
       "\t<tr><td>C104_1_1    </td><td>L</td><td>L3/NCM</td><td>okay</td><td>C104    </td><td>5abf46a5</td><td>F</td><td>CR</td><td>105</td><td>2</td><td>Adult</td></tr>\n",
       "\t<tr><td>C104_2_1    </td><td>L</td><td>L3/NCM</td><td>okay</td><td>C104    </td><td>5abf46a5</td><td>F</td><td>CR</td><td>105</td><td>2</td><td>Adult</td></tr>\n",
       "\t<tr><td>C104_3_1    </td><td>L</td><td>L3/NCM</td><td>okay</td><td>C104    </td><td>5abf46a5</td><td>F</td><td>CR</td><td>105</td><td>2</td><td>Adult</td></tr>\n",
       "\t<tr><td>C195_1_1    </td><td>R</td><td>L3/NCM</td><td>okay</td><td>C195    </td><td>9400c548</td><td>M</td><td>CR</td><td>104</td><td>1</td><td>Adult</td></tr>\n",
       "\t<tr><td>C194_2_1    </td><td>R</td><td>L3/NCM</td><td>okay</td><td>C194    </td><td>4e7ac2de</td><td>M</td><td>CR</td><td>109</td><td>1</td><td>Adult</td></tr>\n",
       "\t<tr><td>Rb291_1_1   </td><td>L</td><td>L3/NCM</td><td>okay</td><td>Rb291   </td><td>71c45b37</td><td>F</td><td>CR</td><td> 94</td><td>1</td><td>Adult</td></tr>\n",
       "\t<tr><td>Rb291_2_1   </td><td>L</td><td>L3/NCM</td><td>okay</td><td>Rb291   </td><td>71c45b37</td><td>F</td><td>CR</td><td> 94</td><td>1</td><td>Adult</td></tr>\n",
       "\t<tr><td>Rb291_3_1   </td><td>L</td><td>L3/NCM</td><td>okay</td><td>Rb291   </td><td>71c45b37</td><td>F</td><td>CR</td><td> 94</td><td>1</td><td>Adult</td></tr>\n",
       "\t<tr><td>b01e6518_1_1</td><td>R</td><td>L3/NCM</td><td>okay</td><td>b01e6518</td><td>b01e6518</td><td>U</td><td>CR</td><td> 31</td><td>5</td><td>J30  </td></tr>\n",
       "\t<tr><td>b01e6518_2_1</td><td>R</td><td>L3/NCM</td><td>okay</td><td>b01e6518</td><td>b01e6518</td><td>U</td><td>CR</td><td> 31</td><td>5</td><td>J30  </td></tr>\n",
       "</tbody>\n",
       "</table>\n"
      ],
      "text/latex": [
       "A data.table: 20 × 11\n",
       "\\begin{tabular}{lllllllllll}\n",
       " site & hemisphere & area & stim\\_amplitude & bird & uuid & sex & group & age & sibling & age\\_group\\\\\n",
       " <chr> & <chr> & <fct> & <chr> & <chr> & <chr> & <chr> & <fct> & <int> & <int> & <fct>\\\\\n",
       "\\hline\n",
       "\t C31\\_1\\_1      & L & L3/NCM & okay & C31      & 6d0caa42 & M & PR & 108 & 2 & Adult\\\\\n",
       "\t C31\\_2\\_1      & L & L3/NCM & okay & C31      & 6d0caa42 & M & PR & 108 & 2 & Adult\\\\\n",
       "\t C41\\_1\\_1      & L & L3/NCM & okay & C41      & d8d22a36 & M & PR & 104 & 4 & Adult\\\\\n",
       "\t C41\\_2\\_1      & L & L3/NCM & okay & C41      & d8d22a36 & M & PR & 104 & 4 & Adult\\\\\n",
       "\t C41\\_3\\_1      & L & L3/NCM & okay & C41      & d8d22a36 & M & PR & 104 & 4 & Adult\\\\\n",
       "\t C41\\_6\\_1      & R & L3/NCM & okay & C41      & d8d22a36 & M & PR & 104 & 4 & Adult\\\\\n",
       "\t C44\\_3\\_1      & L & L3/NCM & okay & C44      & 471dcc13 & M & PR & 111 & 4 & Adult\\\\\n",
       "\t C44\\_6\\_1      & R & L3/NCM & okay & C44      & 471dcc13 & M & PR & 111 & 4 & Adult\\\\\n",
       "\t R229\\_2\\_1     & L & L3/NCM & okay & R229     & 098832ed & F & PR &  98 & 4 & Adult\\\\\n",
       "\t R229\\_4\\_1     & R & L3/NCM & okay & R229     & 098832ed & F & PR &  98 & 4 & Adult\\\\\n",
       "\t C104\\_1\\_1     & L & L3/NCM & okay & C104     & 5abf46a5 & F & CR & 105 & 2 & Adult\\\\\n",
       "\t C104\\_2\\_1     & L & L3/NCM & okay & C104     & 5abf46a5 & F & CR & 105 & 2 & Adult\\\\\n",
       "\t C104\\_3\\_1     & L & L3/NCM & okay & C104     & 5abf46a5 & F & CR & 105 & 2 & Adult\\\\\n",
       "\t C195\\_1\\_1     & R & L3/NCM & okay & C195     & 9400c548 & M & CR & 104 & 1 & Adult\\\\\n",
       "\t C194\\_2\\_1     & R & L3/NCM & okay & C194     & 4e7ac2de & M & CR & 109 & 1 & Adult\\\\\n",
       "\t Rb291\\_1\\_1    & L & L3/NCM & okay & Rb291    & 71c45b37 & F & CR &  94 & 1 & Adult\\\\\n",
       "\t Rb291\\_2\\_1    & L & L3/NCM & okay & Rb291    & 71c45b37 & F & CR &  94 & 1 & Adult\\\\\n",
       "\t Rb291\\_3\\_1    & L & L3/NCM & okay & Rb291    & 71c45b37 & F & CR &  94 & 1 & Adult\\\\\n",
       "\t b01e6518\\_1\\_1 & R & L3/NCM & okay & b01e6518 & b01e6518 & U & CR &  31 & 5 & J30  \\\\\n",
       "\t b01e6518\\_2\\_1 & R & L3/NCM & okay & b01e6518 & b01e6518 & U & CR &  31 & 5 & J30  \\\\\n",
       "\\end{tabular}\n"
      ],
      "text/markdown": [
       "\n",
       "A data.table: 20 × 11\n",
       "\n",
       "| site &lt;chr&gt; | hemisphere &lt;chr&gt; | area &lt;fct&gt; | stim_amplitude &lt;chr&gt; | bird &lt;chr&gt; | uuid &lt;chr&gt; | sex &lt;chr&gt; | group &lt;fct&gt; | age &lt;int&gt; | sibling &lt;int&gt; | age_group &lt;fct&gt; |\n",
       "|---|---|---|---|---|---|---|---|---|---|---|\n",
       "| C31_1_1      | L | L3/NCM | okay | C31      | 6d0caa42 | M | PR | 108 | 2 | Adult |\n",
       "| C31_2_1      | L | L3/NCM | okay | C31      | 6d0caa42 | M | PR | 108 | 2 | Adult |\n",
       "| C41_1_1      | L | L3/NCM | okay | C41      | d8d22a36 | M | PR | 104 | 4 | Adult |\n",
       "| C41_2_1      | L | L3/NCM | okay | C41      | d8d22a36 | M | PR | 104 | 4 | Adult |\n",
       "| C41_3_1      | L | L3/NCM | okay | C41      | d8d22a36 | M | PR | 104 | 4 | Adult |\n",
       "| C41_6_1      | R | L3/NCM | okay | C41      | d8d22a36 | M | PR | 104 | 4 | Adult |\n",
       "| C44_3_1      | L | L3/NCM | okay | C44      | 471dcc13 | M | PR | 111 | 4 | Adult |\n",
       "| C44_6_1      | R | L3/NCM | okay | C44      | 471dcc13 | M | PR | 111 | 4 | Adult |\n",
       "| R229_2_1     | L | L3/NCM | okay | R229     | 098832ed | F | PR |  98 | 4 | Adult |\n",
       "| R229_4_1     | R | L3/NCM | okay | R229     | 098832ed | F | PR |  98 | 4 | Adult |\n",
       "| C104_1_1     | L | L3/NCM | okay | C104     | 5abf46a5 | F | CR | 105 | 2 | Adult |\n",
       "| C104_2_1     | L | L3/NCM | okay | C104     | 5abf46a5 | F | CR | 105 | 2 | Adult |\n",
       "| C104_3_1     | L | L3/NCM | okay | C104     | 5abf46a5 | F | CR | 105 | 2 | Adult |\n",
       "| C195_1_1     | R | L3/NCM | okay | C195     | 9400c548 | M | CR | 104 | 1 | Adult |\n",
       "| C194_2_1     | R | L3/NCM | okay | C194     | 4e7ac2de | M | CR | 109 | 1 | Adult |\n",
       "| Rb291_1_1    | L | L3/NCM | okay | Rb291    | 71c45b37 | F | CR |  94 | 1 | Adult |\n",
       "| Rb291_2_1    | L | L3/NCM | okay | Rb291    | 71c45b37 | F | CR |  94 | 1 | Adult |\n",
       "| Rb291_3_1    | L | L3/NCM | okay | Rb291    | 71c45b37 | F | CR |  94 | 1 | Adult |\n",
       "| b01e6518_1_1 | R | L3/NCM | okay | b01e6518 | b01e6518 | U | CR |  31 | 5 | J30   |\n",
       "| b01e6518_2_1 | R | L3/NCM | okay | b01e6518 | b01e6518 | U | CR |  31 | 5 | J30   |\n",
       "\n"
      ],
      "text/plain": [
       "   site         hemisphere area   stim_amplitude bird     uuid     sex group\n",
       "1  C31_1_1      L          L3/NCM okay           C31      6d0caa42 M   PR   \n",
       "2  C31_2_1      L          L3/NCM okay           C31      6d0caa42 M   PR   \n",
       "3  C41_1_1      L          L3/NCM okay           C41      d8d22a36 M   PR   \n",
       "4  C41_2_1      L          L3/NCM okay           C41      d8d22a36 M   PR   \n",
       "5  C41_3_1      L          L3/NCM okay           C41      d8d22a36 M   PR   \n",
       "6  C41_6_1      R          L3/NCM okay           C41      d8d22a36 M   PR   \n",
       "7  C44_3_1      L          L3/NCM okay           C44      471dcc13 M   PR   \n",
       "8  C44_6_1      R          L3/NCM okay           C44      471dcc13 M   PR   \n",
       "9  R229_2_1     L          L3/NCM okay           R229     098832ed F   PR   \n",
       "10 R229_4_1     R          L3/NCM okay           R229     098832ed F   PR   \n",
       "11 C104_1_1     L          L3/NCM okay           C104     5abf46a5 F   CR   \n",
       "12 C104_2_1     L          L3/NCM okay           C104     5abf46a5 F   CR   \n",
       "13 C104_3_1     L          L3/NCM okay           C104     5abf46a5 F   CR   \n",
       "14 C195_1_1     R          L3/NCM okay           C195     9400c548 M   CR   \n",
       "15 C194_2_1     R          L3/NCM okay           C194     4e7ac2de M   CR   \n",
       "16 Rb291_1_1    L          L3/NCM okay           Rb291    71c45b37 F   CR   \n",
       "17 Rb291_2_1    L          L3/NCM okay           Rb291    71c45b37 F   CR   \n",
       "18 Rb291_3_1    L          L3/NCM okay           Rb291    71c45b37 F   CR   \n",
       "19 b01e6518_1_1 R          L3/NCM okay           b01e6518 b01e6518 U   CR   \n",
       "20 b01e6518_2_1 R          L3/NCM okay           b01e6518 b01e6518 U   CR   \n",
       "   age sibling age_group\n",
       "1  108 2       Adult    \n",
       "2  108 2       Adult    \n",
       "3  104 4       Adult    \n",
       "4  104 4       Adult    \n",
       "5  104 4       Adult    \n",
       "6  104 4       Adult    \n",
       "7  111 4       Adult    \n",
       "8  111 4       Adult    \n",
       "9   98 4       Adult    \n",
       "10  98 4       Adult    \n",
       "11 105 2       Adult    \n",
       "12 105 2       Adult    \n",
       "13 105 2       Adult    \n",
       "14 104 1       Adult    \n",
       "15 109 1       Adult    \n",
       "16  94 1       Adult    \n",
       "17  94 1       Adult    \n",
       "18  94 1       Adult    \n",
       "19  31 5       J30      \n",
       "20  31 5       J30      "
      ]
     },
     "metadata": {},
     "output_type": "display_data"
    }
   ],
   "source": [
    "all_sites"
   ]
  },
  {
   "cell_type": "code",
   "execution_count": 66,
   "id": "600f7620-37c8-46f5-a17e-6ca5e1fb8916",
   "metadata": {},
   "outputs": [
    {
     "data": {
      "text/html": [
       "<table class=\"dataframe\">\n",
       "<caption>A table: 4 × 3 of type dbl</caption>\n",
       "<thead>\n",
       "\t<tr><th></th><th scope=col>CR</th><th scope=col>PR</th><th scope=col>Sum</th></tr>\n",
       "</thead>\n",
       "<tbody>\n",
       "\t<tr><th scope=row>F</th><td>2</td><td>1</td><td>3</td></tr>\n",
       "\t<tr><th scope=row>M</th><td>2</td><td>3</td><td>5</td></tr>\n",
       "\t<tr><th scope=row>U</th><td>1</td><td>0</td><td>1</td></tr>\n",
       "\t<tr><th scope=row>Sum</th><td>5</td><td>4</td><td>9</td></tr>\n",
       "</tbody>\n",
       "</table>\n"
      ],
      "text/latex": [
       "A table: 4 × 3 of type dbl\n",
       "\\begin{tabular}{r|lll}\n",
       "  & CR & PR & Sum\\\\\n",
       "\\hline\n",
       "\tF & 2 & 1 & 3\\\\\n",
       "\tM & 2 & 3 & 5\\\\\n",
       "\tU & 1 & 0 & 1\\\\\n",
       "\tSum & 5 & 4 & 9\\\\\n",
       "\\end{tabular}\n"
      ],
      "text/markdown": [
       "\n",
       "A table: 4 × 3 of type dbl\n",
       "\n",
       "| <!--/--> | CR | PR | Sum |\n",
       "|---|---|---|---|\n",
       "| F | 2 | 1 | 3 |\n",
       "| M | 2 | 3 | 5 |\n",
       "| U | 1 | 0 | 1 |\n",
       "| Sum | 5 | 4 | 9 |\n",
       "\n"
      ],
      "text/plain": [
       "     group\n",
       "sex   CR PR Sum\n",
       "  F   2  1  3  \n",
       "  M   2  3  5  \n",
       "  U   1  0  1  \n",
       "  Sum 5  4  9  "
      ]
     },
     "metadata": {},
     "output_type": "display_data"
    }
   ],
   "source": [
    "## number of animals in each condition by sex\n",
    "(\n",
    "    all_sites\n",
    "    |> distinct(bird, sex, group)\n",
    "    |> xtabs(~ sex + group, data=_)\n",
    "    |> addmargins()\n",
    ")"
   ]
  },
  {
   "cell_type": "code",
   "execution_count": 67,
   "id": "32c0705a-2086-4a3c-a9a1-de1796e399c9",
   "metadata": {},
   "outputs": [
    {
     "data": {
      "text/html": [
       "<table class=\"dataframe\">\n",
       "<caption>A table: 4 × 3 of type dbl</caption>\n",
       "<thead>\n",
       "\t<tr><th></th><th scope=col>CR</th><th scope=col>PR</th><th scope=col>Sum</th></tr>\n",
       "</thead>\n",
       "<tbody>\n",
       "\t<tr><th scope=row>J18</th><td>0</td><td>0</td><td>0</td></tr>\n",
       "\t<tr><th scope=row>J30</th><td>1</td><td>0</td><td>1</td></tr>\n",
       "\t<tr><th scope=row>Adult</th><td>4</td><td>4</td><td>8</td></tr>\n",
       "\t<tr><th scope=row>Sum</th><td>5</td><td>4</td><td>9</td></tr>\n",
       "</tbody>\n",
       "</table>\n"
      ],
      "text/latex": [
       "A table: 4 × 3 of type dbl\n",
       "\\begin{tabular}{r|lll}\n",
       "  & CR & PR & Sum\\\\\n",
       "\\hline\n",
       "\tJ18 & 0 & 0 & 0\\\\\n",
       "\tJ30 & 1 & 0 & 1\\\\\n",
       "\tAdult & 4 & 4 & 8\\\\\n",
       "\tSum & 5 & 4 & 9\\\\\n",
       "\\end{tabular}\n"
      ],
      "text/markdown": [
       "\n",
       "A table: 4 × 3 of type dbl\n",
       "\n",
       "| <!--/--> | CR | PR | Sum |\n",
       "|---|---|---|---|\n",
       "| J18 | 0 | 0 | 0 |\n",
       "| J30 | 1 | 0 | 1 |\n",
       "| Adult | 4 | 4 | 8 |\n",
       "| Sum | 5 | 4 | 9 |\n",
       "\n"
      ],
      "text/plain": [
       "         group\n",
       "age_group CR PR Sum\n",
       "    J18   0  0  0  \n",
       "    J30   1  0  1  \n",
       "    Adult 4  4  8  \n",
       "    Sum   5  4  9  "
      ]
     },
     "metadata": {},
     "output_type": "display_data"
    }
   ],
   "source": [
    "## number of animals in each condition by age\n",
    "(\n",
    "    all_sites\n",
    "    |> distinct(bird, age_group, group)\n",
    "    |> xtabs(~ age_group + group, data=_)\n",
    "    |> addmargins()\n",
    ")"
   ]
  },
  {
   "cell_type": "code",
   "execution_count": 68,
   "id": "8cdef58e-6fbc-4b02-83d6-478f6c7859e6",
   "metadata": {},
   "outputs": [
    {
     "data": {
      "text/html": [
       "<table class=\"dataframe\">\n",
       "<caption>A table: 2 × 3 of type dbl</caption>\n",
       "<thead>\n",
       "\t<tr><th></th><th scope=col>CR</th><th scope=col>PR</th><th scope=col>Sum</th></tr>\n",
       "</thead>\n",
       "<tbody>\n",
       "\t<tr><th scope=row>L3/NCM</th><td>10</td><td>10</td><td>20</td></tr>\n",
       "\t<tr><th scope=row>Sum</th><td>10</td><td>10</td><td>20</td></tr>\n",
       "</tbody>\n",
       "</table>\n"
      ],
      "text/latex": [
       "A table: 2 × 3 of type dbl\n",
       "\\begin{tabular}{r|lll}\n",
       "  & CR & PR & Sum\\\\\n",
       "\\hline\n",
       "\tL3/NCM & 10 & 10 & 20\\\\\n",
       "\tSum & 10 & 10 & 20\\\\\n",
       "\\end{tabular}\n"
      ],
      "text/markdown": [
       "\n",
       "A table: 2 × 3 of type dbl\n",
       "\n",
       "| <!--/--> | CR | PR | Sum |\n",
       "|---|---|---|---|\n",
       "| L3/NCM | 10 | 10 | 20 |\n",
       "| Sum | 10 | 10 | 20 |\n",
       "\n"
      ],
      "text/plain": [
       "        group\n",
       "area     CR PR Sum\n",
       "  L3/NCM 10 10 20 \n",
       "  Sum    10 10 20 "
      ]
     },
     "metadata": {},
     "output_type": "display_data"
    }
   ],
   "source": [
    "## number of sites by area and condition\n",
    "(\n",
    "    all_sites\n",
    "    |> xtabs(~ area + group, data=_)\n",
    "    |> addmargins()\n",
    ")"
   ]
  },
  {
   "cell_type": "code",
   "execution_count": 71,
   "id": "c2932f45-a73d-4dc9-b69d-1168d392ad66",
   "metadata": {},
   "outputs": [
    {
     "data": {
      "text/plain": [
       "        group\n",
       "area     CR PR\n",
       "  L3/NCM  5  4"
      ]
     },
     "metadata": {},
     "output_type": "display_data"
    }
   ],
   "source": [
    "## birds per area/group#\n",
    "(\n",
    "    distinct(all_sites, area, bird, group) \n",
    "    |> xtabs(~ area + group, data=_)\n",
    ")    "
   ]
  },
  {
   "cell_type": "markdown",
   "id": "10adc7a9-ae97-4ff1-85e4-d394c2194bbb",
   "metadata": {
    "tags": []
   },
   "source": [
    "### Unit waveform classifications\n",
    "\n",
    "Need to have run `python scripts/unit_waveforms.py -o build inputs/all_units.txt`"
   ]
  },
  {
   "cell_type": "code",
   "execution_count": 72,
   "id": "4b5cf915-1fee-4f57-b179-2e88948cd4d3",
   "metadata": {},
   "outputs": [],
   "source": [
    "unit_spike_features <- (\n",
    "    data.table::fread(\"../build/mean_spike_features.csv\") %>%\n",
    "    mutate(spike=factor(spike, levels=c(\"wide\", \"narrow\"), exclude=\"\")) %>%\n",
    "    filter(!is.na(spike))\n",
    ")"
   ]
  },
  {
   "cell_type": "code",
   "execution_count": 73,
   "id": "f80449e4-c4ab-4747-902f-bbca39ed4399",
   "metadata": {},
   "outputs": [],
   "source": [
    "### generate tables of pr and cr units - this is used by the pooled decoder analysis\n",
    "all_units <- (\n",
    "    unit_spike_features %>%\n",
    "    mutate(site=str_match(unit, \"[:alnum:]+_\\\\d+_\\\\d+\")[,1]) %>%\n",
    "    select(unit, site) %>%\n",
    "    left_join(all_sites, by=\"site\")\n",
    ")\n",
    "filter(all_units, group==\"CR\") %>% select(unit) %>% readr::write_csv(\"../build/cr_units.txt\", col_names=F)\n",
    "filter(all_units, group==\"PR\") %>% select(unit) %>% readr::write_csv(\"../build/pr_units.txt\", col_names=F)"
   ]
  },
  {
   "cell_type": "code",
   "execution_count": 74,
   "id": "436211a1-6d5d-4d4d-a0d5-555b2523d2b7",
   "metadata": {},
   "outputs": [
    {
     "data": {
      "text/plain": [
       ", , age_group = J18\n",
       "\n",
       "        group\n",
       "area      CR  PR Sum\n",
       "  L3/NCM   0   0   0\n",
       "  Sum      0   0   0\n",
       "\n",
       ", , age_group = J30\n",
       "\n",
       "        group\n",
       "area      CR  PR Sum\n",
       "  L3/NCM  55   0  55\n",
       "  Sum     55   0  55\n",
       "\n",
       ", , age_group = Adult\n",
       "\n",
       "        group\n",
       "area      CR  PR Sum\n",
       "  L3/NCM 568 283 851\n",
       "  Sum    568 283 851\n",
       "\n",
       ", , age_group = Sum\n",
       "\n",
       "        group\n",
       "area      CR  PR Sum\n",
       "  L3/NCM 623 283 906\n",
       "  Sum    623 283 906\n"
      ]
     },
     "metadata": {},
     "output_type": "display_data"
    }
   ],
   "source": [
    "## number of units by area and condition\n",
    "(\n",
    "    all_units\n",
    "    |> xtabs(~ area + group + age_group, data=_)\n",
    "    |> addmargins()\n",
    ")"
   ]
  },
  {
   "cell_type": "markdown",
   "id": "495c4a4c-177f-4419-b552-c40852d88599",
   "metadata": {
    "tags": []
   },
   "source": [
    "### Discriminability\n",
    "\n",
    "Discriminability is assessed by computing spike distances and training a classifier. The computation is performed by `scripts/motif_discrim.py`.\n",
    "\n",
    "We classify cells as responsive if the z-score of the cross-validation is above the one-tailed 95% confidence level."
   ]
  },
  {
   "cell_type": "code",
   "execution_count": 75,
   "id": "da695d83-91b0-49fb-bb07-0d65d8cd54c0",
   "metadata": {},
   "outputs": [],
   "source": [
    "z_score_alpha <- 0.05\n",
    "z_score_global_thresh <- qnorm(1 - z_score_alpha)\n",
    "## this is not used: too easy for individual motifs to sneak over the threshold\n",
    "z_score_motif_thresh <- qnorm(1 - z_score_alpha/9)"
   ]
  },
  {
   "cell_type": "code",
   "execution_count": 76,
   "id": "fb45400c-0207-421d-b70b-a6fc8b6034b3",
   "metadata": {},
   "outputs": [],
   "source": [
    "header <- data.table::fread(cmd='find ../build/ -name \"*motif_discrim.csv\" | head -n1 | xargs head -n1', header=T)\n",
    "motif_discrim <- tibble(data.table::fread(cmd='find ../build/ -name \"*motif_discrim.csv\" | xargs tail -q -n+2', header=F))\n",
    "names(motif_discrim) <- names(header)"
   ]
  },
  {
   "cell_type": "code",
   "execution_count": 77,
   "id": "0437705e-cc47-4e1f-a62e-020c920fb197",
   "metadata": {},
   "outputs": [],
   "source": [
    "unit_n_discrim <- (\n",
    "    motif_discrim\n",
    "    %>% filter(foreground!=\"_average\")\n",
    "    %>% group_by(unit)\n",
    "    %>% summarize(n_discrim=sum(z_score > z_score_motif_thresh), max_score=max(score))\n",
    ")"
   ]
  },
  {
   "cell_type": "code",
   "execution_count": 78,
   "id": "f07863f9-8b05-42f0-8672-d94e678b0e5d",
   "metadata": {},
   "outputs": [
    {
     "data": {
      "text/html": [
       "<table class=\"dataframe\">\n",
       "<caption>A tibble: 2812 × 3</caption>\n",
       "<thead>\n",
       "\t<tr><th scope=col>unit</th><th scope=col>n_discrim</th><th scope=col>max_score</th></tr>\n",
       "\t<tr><th scope=col>&lt;chr&gt;</th><th scope=col>&lt;int&gt;</th><th scope=col>&lt;dbl&gt;</th></tr>\n",
       "</thead>\n",
       "<tbody>\n",
       "\t<tr><td>C104_1_1_c10 </td><td>5</td><td>0.7</td></tr>\n",
       "\t<tr><td>C104_1_1_c109</td><td>1</td><td>0.4</td></tr>\n",
       "\t<tr><td>C104_1_1_c11 </td><td>1</td><td>0.5</td></tr>\n",
       "\t<tr><td>C104_1_1_c112</td><td>5</td><td>0.8</td></tr>\n",
       "\t<tr><td>C104_1_1_c118</td><td>0</td><td>0.3</td></tr>\n",
       "\t<tr><td>C104_1_1_c119</td><td>0</td><td>0.3</td></tr>\n",
       "\t<tr><td>C104_1_1_c120</td><td>0</td><td>0.3</td></tr>\n",
       "\t<tr><td>C104_1_1_c124</td><td>6</td><td>0.7</td></tr>\n",
       "\t<tr><td>C104_1_1_c127</td><td>0</td><td>0.3</td></tr>\n",
       "\t<tr><td>C104_1_1_c13 </td><td>9</td><td>1.0</td></tr>\n",
       "\t<tr><td>⋮</td><td>⋮</td><td>⋮</td></tr>\n",
       "\t<tr><td>b01e6518_2_1_c55</td><td>1</td><td>0.4</td></tr>\n",
       "\t<tr><td>b01e6518_2_1_c56</td><td>1</td><td>0.5</td></tr>\n",
       "\t<tr><td>b01e6518_2_1_c58</td><td>2</td><td>0.5</td></tr>\n",
       "\t<tr><td>b01e6518_2_1_c60</td><td>1</td><td>0.9</td></tr>\n",
       "\t<tr><td>b01e6518_2_1_c61</td><td>0</td><td>0.3</td></tr>\n",
       "\t<tr><td>b01e6518_2_1_c64</td><td>1</td><td>0.4</td></tr>\n",
       "\t<tr><td>b01e6518_2_1_c65</td><td>1</td><td>0.5</td></tr>\n",
       "\t<tr><td>b01e6518_2_1_c69</td><td>0</td><td>0.3</td></tr>\n",
       "\t<tr><td>b01e6518_2_1_c71</td><td>0</td><td>0.3</td></tr>\n",
       "\t<tr><td>b01e6518_2_1_c72</td><td>0</td><td>0.4</td></tr>\n",
       "</tbody>\n",
       "</table>\n"
      ],
      "text/latex": [
       "A tibble: 2812 × 3\n",
       "\\begin{tabular}{lll}\n",
       " unit & n\\_discrim & max\\_score\\\\\n",
       " <chr> & <int> & <dbl>\\\\\n",
       "\\hline\n",
       "\t C104\\_1\\_1\\_c10  & 5 & 0.7\\\\\n",
       "\t C104\\_1\\_1\\_c109 & 1 & 0.4\\\\\n",
       "\t C104\\_1\\_1\\_c11  & 1 & 0.5\\\\\n",
       "\t C104\\_1\\_1\\_c112 & 5 & 0.8\\\\\n",
       "\t C104\\_1\\_1\\_c118 & 0 & 0.3\\\\\n",
       "\t C104\\_1\\_1\\_c119 & 0 & 0.3\\\\\n",
       "\t C104\\_1\\_1\\_c120 & 0 & 0.3\\\\\n",
       "\t C104\\_1\\_1\\_c124 & 6 & 0.7\\\\\n",
       "\t C104\\_1\\_1\\_c127 & 0 & 0.3\\\\\n",
       "\t C104\\_1\\_1\\_c13  & 9 & 1.0\\\\\n",
       "\t ⋮ & ⋮ & ⋮\\\\\n",
       "\t b01e6518\\_2\\_1\\_c55 & 1 & 0.4\\\\\n",
       "\t b01e6518\\_2\\_1\\_c56 & 1 & 0.5\\\\\n",
       "\t b01e6518\\_2\\_1\\_c58 & 2 & 0.5\\\\\n",
       "\t b01e6518\\_2\\_1\\_c60 & 1 & 0.9\\\\\n",
       "\t b01e6518\\_2\\_1\\_c61 & 0 & 0.3\\\\\n",
       "\t b01e6518\\_2\\_1\\_c64 & 1 & 0.4\\\\\n",
       "\t b01e6518\\_2\\_1\\_c65 & 1 & 0.5\\\\\n",
       "\t b01e6518\\_2\\_1\\_c69 & 0 & 0.3\\\\\n",
       "\t b01e6518\\_2\\_1\\_c71 & 0 & 0.3\\\\\n",
       "\t b01e6518\\_2\\_1\\_c72 & 0 & 0.4\\\\\n",
       "\\end{tabular}\n"
      ],
      "text/markdown": [
       "\n",
       "A tibble: 2812 × 3\n",
       "\n",
       "| unit &lt;chr&gt; | n_discrim &lt;int&gt; | max_score &lt;dbl&gt; |\n",
       "|---|---|---|\n",
       "| C104_1_1_c10  | 5 | 0.7 |\n",
       "| C104_1_1_c109 | 1 | 0.4 |\n",
       "| C104_1_1_c11  | 1 | 0.5 |\n",
       "| C104_1_1_c112 | 5 | 0.8 |\n",
       "| C104_1_1_c118 | 0 | 0.3 |\n",
       "| C104_1_1_c119 | 0 | 0.3 |\n",
       "| C104_1_1_c120 | 0 | 0.3 |\n",
       "| C104_1_1_c124 | 6 | 0.7 |\n",
       "| C104_1_1_c127 | 0 | 0.3 |\n",
       "| C104_1_1_c13  | 9 | 1.0 |\n",
       "| ⋮ | ⋮ | ⋮ |\n",
       "| b01e6518_2_1_c55 | 1 | 0.4 |\n",
       "| b01e6518_2_1_c56 | 1 | 0.5 |\n",
       "| b01e6518_2_1_c58 | 2 | 0.5 |\n",
       "| b01e6518_2_1_c60 | 1 | 0.9 |\n",
       "| b01e6518_2_1_c61 | 0 | 0.3 |\n",
       "| b01e6518_2_1_c64 | 1 | 0.4 |\n",
       "| b01e6518_2_1_c65 | 1 | 0.5 |\n",
       "| b01e6518_2_1_c69 | 0 | 0.3 |\n",
       "| b01e6518_2_1_c71 | 0 | 0.3 |\n",
       "| b01e6518_2_1_c72 | 0 | 0.4 |\n",
       "\n"
      ],
      "text/plain": [
       "     unit             n_discrim max_score\n",
       "1    C104_1_1_c10     5         0.7      \n",
       "2    C104_1_1_c109    1         0.4      \n",
       "3    C104_1_1_c11     1         0.5      \n",
       "4    C104_1_1_c112    5         0.8      \n",
       "5    C104_1_1_c118    0         0.3      \n",
       "6    C104_1_1_c119    0         0.3      \n",
       "7    C104_1_1_c120    0         0.3      \n",
       "8    C104_1_1_c124    6         0.7      \n",
       "9    C104_1_1_c127    0         0.3      \n",
       "10   C104_1_1_c13     9         1.0      \n",
       "⋮    ⋮                ⋮         ⋮        \n",
       "2803 b01e6518_2_1_c55 1         0.4      \n",
       "2804 b01e6518_2_1_c56 1         0.5      \n",
       "2805 b01e6518_2_1_c58 2         0.5      \n",
       "2806 b01e6518_2_1_c60 1         0.9      \n",
       "2807 b01e6518_2_1_c61 0         0.3      \n",
       "2808 b01e6518_2_1_c64 1         0.4      \n",
       "2809 b01e6518_2_1_c65 1         0.5      \n",
       "2810 b01e6518_2_1_c69 0         0.3      \n",
       "2811 b01e6518_2_1_c71 0         0.3      \n",
       "2812 b01e6518_2_1_c72 0         0.4      "
      ]
     },
     "metadata": {},
     "output_type": "display_data"
    }
   ],
   "source": [
    "unit_n_discrim"
   ]
  },
  {
   "cell_type": "code",
   "execution_count": 79,
   "id": "93a4492b-01df-4eba-b111-887021bd13d4",
   "metadata": {},
   "outputs": [],
   "source": [
    "## classify units as auditory at each noise level and join to metadata\n",
    "unit_discrim <- (\n",
    "    motif_discrim\n",
    "    %>% filter(foreground==\"_average\")\n",
    "    %>% select(!foreground)\n",
    "    %>% inner_join(unit_n_discrim, by=\"unit\")\n",
    "    %>% mutate(is_auditory=(z_score > z_score_global_thresh))\n",
    "    %>% inner_join(select(unit_spike_features, unit, spike), by=\"unit\")\n",
    "    %>% mutate(site=str_match(unit, \"[:alnum:]+_\\\\d+_\\\\d+\")[,1])\n",
    ")"
   ]
  },
  {
   "cell_type": "code",
   "execution_count": 80,
   "id": "72958084-9f12-4fe9-963d-344a5c6909a2",
   "metadata": {},
   "outputs": [
    {
     "data": {
      "text/html": [
       "<table class=\"dataframe\">\n",
       "<caption>A tibble: 2792 × 10</caption>\n",
       "<thead>\n",
       "\t<tr><th scope=col>unit</th><th scope=col>score</th><th scope=col>z_score</th><th scope=col>spikes_mean</th><th scope=col>nonzero_trials</th><th scope=col>n_discrim</th><th scope=col>max_score</th><th scope=col>is_auditory</th><th scope=col>spike</th><th scope=col>site</th></tr>\n",
       "\t<tr><th scope=col>&lt;chr&gt;</th><th scope=col>&lt;dbl&gt;</th><th scope=col>&lt;dbl&gt;</th><th scope=col>&lt;dbl&gt;</th><th scope=col>&lt;dbl&gt;</th><th scope=col>&lt;int&gt;</th><th scope=col>&lt;dbl&gt;</th><th scope=col>&lt;lgl&gt;</th><th scope=col>&lt;fct&gt;</th><th scope=col>&lt;chr&gt;</th></tr>\n",
       "</thead>\n",
       "<tbody>\n",
       "\t<tr><td>C44_6_1_c135    </td><td>0.38888889</td><td> 9.0361751</td><td> 9.1333333</td><td> 9.444444</td><td>5</td><td>0.7</td><td> TRUE</td><td>narrow</td><td>C44_6_1     </td></tr>\n",
       "\t<tr><td>C60_2_1_c158    </td><td>0.06666667</td><td>-0.7170856</td><td> 0.1222222</td><td> 1.111111</td><td>0</td><td>0.2</td><td>FALSE</td><td>wide  </td><td>C60_2_1     </td></tr>\n",
       "\t<tr><td>C24_1_1_c227    </td><td>0.82222222</td><td>21.2844648</td><td>52.3666667</td><td>10.000000</td><td>9</td><td>1.0</td><td> TRUE</td><td>narrow</td><td>C24_1_1     </td></tr>\n",
       "\t<tr><td>C104_3_1_c126   </td><td>0.05555556</td><td>-1.1623203</td><td> 0.6000000</td><td> 3.777778</td><td>0</td><td>0.2</td><td>FALSE</td><td>wide  </td><td>C104_3_1    </td></tr>\n",
       "\t<tr><td>b01e6518_2_1_c72</td><td>0.15555556</td><td> 1.8934997</td><td> 2.8888889</td><td> 8.777778</td><td>0</td><td>0.4</td><td> TRUE</td><td>wide  </td><td>b01e6518_2_1</td></tr>\n",
       "\t<tr><td>C105_3_1_c114   </td><td>0.14444444</td><td> 1.6089149</td><td> 0.9333333</td><td> 6.666667</td><td>1</td><td>0.6</td><td>FALSE</td><td>wide  </td><td>C105_3_1    </td></tr>\n",
       "\t<tr><td>C194_2_1_c19    </td><td>0.16666667</td><td> 2.2549650</td><td> 3.2888889</td><td> 8.555556</td><td>1</td><td>0.4</td><td> TRUE</td><td>wide  </td><td>C194_2_1    </td></tr>\n",
       "\t<tr><td>C105_1_1_c221   </td><td>0.14444444</td><td> 1.7212198</td><td> 0.2111111</td><td> 1.777778</td><td>1</td><td>0.4</td><td> TRUE</td><td>narrow</td><td>C105_1_1    </td></tr>\n",
       "\t<tr><td>C41_1_1_c241    </td><td>0.13333333</td><td> 1.3298171</td><td> 1.0222222</td><td> 6.555556</td><td>0</td><td>0.3</td><td>FALSE</td><td>wide  </td><td>C41_1_1     </td></tr>\n",
       "\t<tr><td>C104_3_1_c6     </td><td>0.27777778</td><td> 5.4467975</td><td> 3.5555556</td><td> 8.888889</td><td>1</td><td>0.7</td><td> TRUE</td><td>wide  </td><td>C104_3_1    </td></tr>\n",
       "\t<tr><td>⋮</td><td>⋮</td><td>⋮</td><td>⋮</td><td>⋮</td><td>⋮</td><td>⋮</td><td>⋮</td><td>⋮</td><td>⋮</td></tr>\n",
       "\t<tr><td>C194_3_1_c162 </td><td>0.08888889</td><td>-0.09762593</td><td> 0.07777778</td><td> 0.6666667</td><td>1</td><td>0.4</td><td>FALSE</td><td>wide  </td><td>C194_3_1 </td></tr>\n",
       "\t<tr><td>R229_3_1_c39  </td><td>0.06666667</td><td>-0.76296475</td><td> 0.15555556</td><td> 1.3333333</td><td>0</td><td>0.2</td><td>FALSE</td><td>wide  </td><td>R229_3_1 </td></tr>\n",
       "\t<tr><td>C195_1_1_c138 </td><td>0.06666667</td><td>-0.86324082</td><td> 0.43333333</td><td> 3.1111111</td><td>0</td><td>0.2</td><td>FALSE</td><td>wide  </td><td>C195_1_1 </td></tr>\n",
       "\t<tr><td>C41_7_1_c66   </td><td>0.05555556</td><td>-1.03042940</td><td> 6.45555556</td><td> 9.7777778</td><td>0</td><td>0.1</td><td>FALSE</td><td>narrow</td><td>C41_7_1  </td></tr>\n",
       "\t<tr><td>C24_1_1_c390  </td><td>0.16666667</td><td> 2.27139884</td><td>12.10000000</td><td> 9.8888889</td><td>1</td><td>0.4</td><td> TRUE</td><td>narrow</td><td>C24_1_1  </td></tr>\n",
       "\t<tr><td>Rb291_1_1_c197</td><td>0.07777778</td><td>-0.47660851</td><td> 0.16666667</td><td> 1.4444444</td><td>0</td><td>0.2</td><td>FALSE</td><td>wide  </td><td>Rb291_1_1</td></tr>\n",
       "\t<tr><td>Rb291_2_1_c22 </td><td>0.16666667</td><td> 2.41356768</td><td> 0.17777778</td><td> 1.5555556</td><td>2</td><td>0.4</td><td> TRUE</td><td>wide  </td><td>Rb291_2_1</td></tr>\n",
       "\t<tr><td>P158_1_1_c216 </td><td>0.47777778</td><td>11.32241522</td><td> 8.80000000</td><td> 9.8888889</td><td>6</td><td>1.0</td><td> TRUE</td><td>wide  </td><td>P158_1_1 </td></tr>\n",
       "\t<tr><td>Rb291_2_1_c176</td><td>1.00000000</td><td>21.78018923</td><td>48.68888889</td><td>10.0000000</td><td>9</td><td>1.0</td><td> TRUE</td><td>narrow</td><td>Rb291_2_1</td></tr>\n",
       "\t<tr><td>C24_3_1_c345  </td><td>0.06666667</td><td>-0.76438642</td><td> 0.66666667</td><td> 4.3333333</td><td>0</td><td>0.2</td><td>FALSE</td><td>wide  </td><td>C24_3_1  </td></tr>\n",
       "</tbody>\n",
       "</table>\n"
      ],
      "text/latex": [
       "A tibble: 2792 × 10\n",
       "\\begin{tabular}{llllllllll}\n",
       " unit & score & z\\_score & spikes\\_mean & nonzero\\_trials & n\\_discrim & max\\_score & is\\_auditory & spike & site\\\\\n",
       " <chr> & <dbl> & <dbl> & <dbl> & <dbl> & <int> & <dbl> & <lgl> & <fct> & <chr>\\\\\n",
       "\\hline\n",
       "\t C44\\_6\\_1\\_c135     & 0.38888889 &  9.0361751 &  9.1333333 &  9.444444 & 5 & 0.7 &  TRUE & narrow & C44\\_6\\_1     \\\\\n",
       "\t C60\\_2\\_1\\_c158     & 0.06666667 & -0.7170856 &  0.1222222 &  1.111111 & 0 & 0.2 & FALSE & wide   & C60\\_2\\_1     \\\\\n",
       "\t C24\\_1\\_1\\_c227     & 0.82222222 & 21.2844648 & 52.3666667 & 10.000000 & 9 & 1.0 &  TRUE & narrow & C24\\_1\\_1     \\\\\n",
       "\t C104\\_3\\_1\\_c126    & 0.05555556 & -1.1623203 &  0.6000000 &  3.777778 & 0 & 0.2 & FALSE & wide   & C104\\_3\\_1    \\\\\n",
       "\t b01e6518\\_2\\_1\\_c72 & 0.15555556 &  1.8934997 &  2.8888889 &  8.777778 & 0 & 0.4 &  TRUE & wide   & b01e6518\\_2\\_1\\\\\n",
       "\t C105\\_3\\_1\\_c114    & 0.14444444 &  1.6089149 &  0.9333333 &  6.666667 & 1 & 0.6 & FALSE & wide   & C105\\_3\\_1    \\\\\n",
       "\t C194\\_2\\_1\\_c19     & 0.16666667 &  2.2549650 &  3.2888889 &  8.555556 & 1 & 0.4 &  TRUE & wide   & C194\\_2\\_1    \\\\\n",
       "\t C105\\_1\\_1\\_c221    & 0.14444444 &  1.7212198 &  0.2111111 &  1.777778 & 1 & 0.4 &  TRUE & narrow & C105\\_1\\_1    \\\\\n",
       "\t C41\\_1\\_1\\_c241     & 0.13333333 &  1.3298171 &  1.0222222 &  6.555556 & 0 & 0.3 & FALSE & wide   & C41\\_1\\_1     \\\\\n",
       "\t C104\\_3\\_1\\_c6      & 0.27777778 &  5.4467975 &  3.5555556 &  8.888889 & 1 & 0.7 &  TRUE & wide   & C104\\_3\\_1    \\\\\n",
       "\t ⋮ & ⋮ & ⋮ & ⋮ & ⋮ & ⋮ & ⋮ & ⋮ & ⋮ & ⋮\\\\\n",
       "\t C194\\_3\\_1\\_c162  & 0.08888889 & -0.09762593 &  0.07777778 &  0.6666667 & 1 & 0.4 & FALSE & wide   & C194\\_3\\_1 \\\\\n",
       "\t R229\\_3\\_1\\_c39   & 0.06666667 & -0.76296475 &  0.15555556 &  1.3333333 & 0 & 0.2 & FALSE & wide   & R229\\_3\\_1 \\\\\n",
       "\t C195\\_1\\_1\\_c138  & 0.06666667 & -0.86324082 &  0.43333333 &  3.1111111 & 0 & 0.2 & FALSE & wide   & C195\\_1\\_1 \\\\\n",
       "\t C41\\_7\\_1\\_c66    & 0.05555556 & -1.03042940 &  6.45555556 &  9.7777778 & 0 & 0.1 & FALSE & narrow & C41\\_7\\_1  \\\\\n",
       "\t C24\\_1\\_1\\_c390   & 0.16666667 &  2.27139884 & 12.10000000 &  9.8888889 & 1 & 0.4 &  TRUE & narrow & C24\\_1\\_1  \\\\\n",
       "\t Rb291\\_1\\_1\\_c197 & 0.07777778 & -0.47660851 &  0.16666667 &  1.4444444 & 0 & 0.2 & FALSE & wide   & Rb291\\_1\\_1\\\\\n",
       "\t Rb291\\_2\\_1\\_c22  & 0.16666667 &  2.41356768 &  0.17777778 &  1.5555556 & 2 & 0.4 &  TRUE & wide   & Rb291\\_2\\_1\\\\\n",
       "\t P158\\_1\\_1\\_c216  & 0.47777778 & 11.32241522 &  8.80000000 &  9.8888889 & 6 & 1.0 &  TRUE & wide   & P158\\_1\\_1 \\\\\n",
       "\t Rb291\\_2\\_1\\_c176 & 1.00000000 & 21.78018923 & 48.68888889 & 10.0000000 & 9 & 1.0 &  TRUE & narrow & Rb291\\_2\\_1\\\\\n",
       "\t C24\\_3\\_1\\_c345   & 0.06666667 & -0.76438642 &  0.66666667 &  4.3333333 & 0 & 0.2 & FALSE & wide   & C24\\_3\\_1  \\\\\n",
       "\\end{tabular}\n"
      ],
      "text/markdown": [
       "\n",
       "A tibble: 2792 × 10\n",
       "\n",
       "| unit &lt;chr&gt; | score &lt;dbl&gt; | z_score &lt;dbl&gt; | spikes_mean &lt;dbl&gt; | nonzero_trials &lt;dbl&gt; | n_discrim &lt;int&gt; | max_score &lt;dbl&gt; | is_auditory &lt;lgl&gt; | spike &lt;fct&gt; | site &lt;chr&gt; |\n",
       "|---|---|---|---|---|---|---|---|---|---|\n",
       "| C44_6_1_c135     | 0.38888889 |  9.0361751 |  9.1333333 |  9.444444 | 5 | 0.7 |  TRUE | narrow | C44_6_1      |\n",
       "| C60_2_1_c158     | 0.06666667 | -0.7170856 |  0.1222222 |  1.111111 | 0 | 0.2 | FALSE | wide   | C60_2_1      |\n",
       "| C24_1_1_c227     | 0.82222222 | 21.2844648 | 52.3666667 | 10.000000 | 9 | 1.0 |  TRUE | narrow | C24_1_1      |\n",
       "| C104_3_1_c126    | 0.05555556 | -1.1623203 |  0.6000000 |  3.777778 | 0 | 0.2 | FALSE | wide   | C104_3_1     |\n",
       "| b01e6518_2_1_c72 | 0.15555556 |  1.8934997 |  2.8888889 |  8.777778 | 0 | 0.4 |  TRUE | wide   | b01e6518_2_1 |\n",
       "| C105_3_1_c114    | 0.14444444 |  1.6089149 |  0.9333333 |  6.666667 | 1 | 0.6 | FALSE | wide   | C105_3_1     |\n",
       "| C194_2_1_c19     | 0.16666667 |  2.2549650 |  3.2888889 |  8.555556 | 1 | 0.4 |  TRUE | wide   | C194_2_1     |\n",
       "| C105_1_1_c221    | 0.14444444 |  1.7212198 |  0.2111111 |  1.777778 | 1 | 0.4 |  TRUE | narrow | C105_1_1     |\n",
       "| C41_1_1_c241     | 0.13333333 |  1.3298171 |  1.0222222 |  6.555556 | 0 | 0.3 | FALSE | wide   | C41_1_1      |\n",
       "| C104_3_1_c6      | 0.27777778 |  5.4467975 |  3.5555556 |  8.888889 | 1 | 0.7 |  TRUE | wide   | C104_3_1     |\n",
       "| ⋮ | ⋮ | ⋮ | ⋮ | ⋮ | ⋮ | ⋮ | ⋮ | ⋮ | ⋮ |\n",
       "| C194_3_1_c162  | 0.08888889 | -0.09762593 |  0.07777778 |  0.6666667 | 1 | 0.4 | FALSE | wide   | C194_3_1  |\n",
       "| R229_3_1_c39   | 0.06666667 | -0.76296475 |  0.15555556 |  1.3333333 | 0 | 0.2 | FALSE | wide   | R229_3_1  |\n",
       "| C195_1_1_c138  | 0.06666667 | -0.86324082 |  0.43333333 |  3.1111111 | 0 | 0.2 | FALSE | wide   | C195_1_1  |\n",
       "| C41_7_1_c66    | 0.05555556 | -1.03042940 |  6.45555556 |  9.7777778 | 0 | 0.1 | FALSE | narrow | C41_7_1   |\n",
       "| C24_1_1_c390   | 0.16666667 |  2.27139884 | 12.10000000 |  9.8888889 | 1 | 0.4 |  TRUE | narrow | C24_1_1   |\n",
       "| Rb291_1_1_c197 | 0.07777778 | -0.47660851 |  0.16666667 |  1.4444444 | 0 | 0.2 | FALSE | wide   | Rb291_1_1 |\n",
       "| Rb291_2_1_c22  | 0.16666667 |  2.41356768 |  0.17777778 |  1.5555556 | 2 | 0.4 |  TRUE | wide   | Rb291_2_1 |\n",
       "| P158_1_1_c216  | 0.47777778 | 11.32241522 |  8.80000000 |  9.8888889 | 6 | 1.0 |  TRUE | wide   | P158_1_1  |\n",
       "| Rb291_2_1_c176 | 1.00000000 | 21.78018923 | 48.68888889 | 10.0000000 | 9 | 1.0 |  TRUE | narrow | Rb291_2_1 |\n",
       "| C24_3_1_c345   | 0.06666667 | -0.76438642 |  0.66666667 |  4.3333333 | 0 | 0.2 | FALSE | wide   | C24_3_1   |\n",
       "\n"
      ],
      "text/plain": [
       "     unit             score      z_score     spikes_mean nonzero_trials\n",
       "1    C44_6_1_c135     0.38888889  9.0361751   9.1333333   9.444444     \n",
       "2    C60_2_1_c158     0.06666667 -0.7170856   0.1222222   1.111111     \n",
       "3    C24_1_1_c227     0.82222222 21.2844648  52.3666667  10.000000     \n",
       "4    C104_3_1_c126    0.05555556 -1.1623203   0.6000000   3.777778     \n",
       "5    b01e6518_2_1_c72 0.15555556  1.8934997   2.8888889   8.777778     \n",
       "6    C105_3_1_c114    0.14444444  1.6089149   0.9333333   6.666667     \n",
       "7    C194_2_1_c19     0.16666667  2.2549650   3.2888889   8.555556     \n",
       "8    C105_1_1_c221    0.14444444  1.7212198   0.2111111   1.777778     \n",
       "9    C41_1_1_c241     0.13333333  1.3298171   1.0222222   6.555556     \n",
       "10   C104_3_1_c6      0.27777778  5.4467975   3.5555556   8.888889     \n",
       "⋮    ⋮                ⋮          ⋮           ⋮           ⋮             \n",
       "2783 C194_3_1_c162    0.08888889 -0.09762593  0.07777778  0.6666667    \n",
       "2784 R229_3_1_c39     0.06666667 -0.76296475  0.15555556  1.3333333    \n",
       "2785 C195_1_1_c138    0.06666667 -0.86324082  0.43333333  3.1111111    \n",
       "2786 C41_7_1_c66      0.05555556 -1.03042940  6.45555556  9.7777778    \n",
       "2787 C24_1_1_c390     0.16666667  2.27139884 12.10000000  9.8888889    \n",
       "2788 Rb291_1_1_c197   0.07777778 -0.47660851  0.16666667  1.4444444    \n",
       "2789 Rb291_2_1_c22    0.16666667  2.41356768  0.17777778  1.5555556    \n",
       "2790 P158_1_1_c216    0.47777778 11.32241522  8.80000000  9.8888889    \n",
       "2791 Rb291_2_1_c176   1.00000000 21.78018923 48.68888889 10.0000000    \n",
       "2792 C24_3_1_c345     0.06666667 -0.76438642  0.66666667  4.3333333    \n",
       "     n_discrim max_score is_auditory spike  site        \n",
       "1    5         0.7        TRUE       narrow C44_6_1     \n",
       "2    0         0.2       FALSE       wide   C60_2_1     \n",
       "3    9         1.0        TRUE       narrow C24_1_1     \n",
       "4    0         0.2       FALSE       wide   C104_3_1    \n",
       "5    0         0.4        TRUE       wide   b01e6518_2_1\n",
       "6    1         0.6       FALSE       wide   C105_3_1    \n",
       "7    1         0.4        TRUE       wide   C194_2_1    \n",
       "8    1         0.4        TRUE       narrow C105_1_1    \n",
       "9    0         0.3       FALSE       wide   C41_1_1     \n",
       "10   1         0.7        TRUE       wide   C104_3_1    \n",
       "⋮    ⋮         ⋮         ⋮           ⋮      ⋮           \n",
       "2783 1         0.4       FALSE       wide   C194_3_1    \n",
       "2784 0         0.2       FALSE       wide   R229_3_1    \n",
       "2785 0         0.2       FALSE       wide   C195_1_1    \n",
       "2786 0         0.1       FALSE       narrow C41_7_1     \n",
       "2787 1         0.4        TRUE       narrow C24_1_1     \n",
       "2788 0         0.2       FALSE       wide   Rb291_1_1   \n",
       "2789 2         0.4        TRUE       wide   Rb291_2_1   \n",
       "2790 6         1.0        TRUE       wide   P158_1_1    \n",
       "2791 9         1.0        TRUE       narrow Rb291_2_1   \n",
       "2792 0         0.2       FALSE       wide   C24_3_1     "
      ]
     },
     "metadata": {},
     "output_type": "display_data"
    }
   ],
   "source": [
    "unit_discrim"
   ]
  },
  {
   "cell_type": "code",
   "execution_count": 81,
   "id": "ac26096b-6d7a-40e8-9d6f-488d19403994",
   "metadata": {},
   "outputs": [],
   "source": [
    "## save output for downstream analysis\n",
    "filter(unit_discrim, is_auditory) |> ungroup() |> select(unit) |> write.table(\"../inputs/responsive_units.txt\", quote=F, row.names=F, col.names=F)"
   ]
  },
  {
   "cell_type": "code",
   "execution_count": null,
   "id": "57e46ffb-b6c7-41ba-bfb1-c2a63d4bf6eb",
   "metadata": {},
   "outputs": [],
   "source": [
    "## this code cell is for picking out examples. It can be hard to find units that are selective but not too selective.\n",
    "(\n",
    "    unit_discrim\n",
    "    |> inner_join(all_sites, by=\"site\")\n",
    "    |> filter(area==\"L3/NCM\", spike==\"wide\", str_starts(unit, \"C104_3_1\"), is_auditory)\n",
    "    |> arrange(spikes_mean)\n",
    ")"
   ]
  },
  {
   "cell_type": "markdown",
   "id": "222360f6-8a29-44c9-a13f-511c9c7abdf5",
   "metadata": {
    "tags": []
   },
   "source": [
    "### Firing rates\n",
    "\n",
    "Firing rates can be summarized across trials by adding up the number of events and the total observation interval. The underlying assumption\n",
    "is that the spike counts have a poisson distribution, which is probably not true but better than the alternative of assuming the rates are normally distributed."
   ]
  },
  {
   "cell_type": "code",
   "execution_count": 82,
   "id": "de01ea5a-3ffa-4991-8c8a-1bc522eb72e3",
   "metadata": {},
   "outputs": [
    {
     "name": "stderr",
     "output_type": "stream",
     "text": [
      "\u001b[1m\u001b[22m`summarise()` has grouped output by 'unit'. You can override using the\n",
      "`.groups` argument.\n"
     ]
    }
   ],
   "source": [
    "header <- data.table::fread(cmd='find ../build/ -name \"*_rates.csv\" | head -n1 | xargs head -n1', header=T)\n",
    "motif_rates <- tibble(data.table::fread(cmd='find ../build/ -name \"*_rates.csv\" | xargs tail -q -n+2', header=F))\n",
    "names(motif_rates) <- names(header)\n",
    "motif_rates <- (\n",
    "    motif_rates\n",
    "    |> filter(background_dBFS==-100 | foreground==\"silence\", foreground!=\"background\")\n",
    "    |> mutate(foreground=relevel(factor(foreground), \"silence\"))\n",
    ")\n",
    "motif_rate_summary <- (\n",
    "    motif_rates\n",
    "    |> group_by(unit, foreground) \n",
    "    |> summarize(n_events=sum(n_events), interval=sum(interval_end))\n",
    "    ## this regularizes rate estimates for silence by adding 1 spike to units with no spontaneous spikes\n",
    "    |> mutate(n_events=ifelse(foreground==\"silence\" & n_events == 0, 1, n_events))\n",
    ")"
   ]
  },
  {
   "cell_type": "markdown",
   "id": "2798fb8b-5f2f-4d9c-81b0-021e8ca5b353",
   "metadata": {},
   "source": [
    "Compute some unit-level rate statistics:\n",
    "\n",
    "1. `n_responsive` - the number of stimuli that evoked a significant change in firing rate relative to silence. Significance is assessed using a Poisson GLM.\n",
    "2. `activity_frac` - the Vinje and Gallant activity fraction across all non-silence stimuli\n"
   ]
  },
  {
   "cell_type": "code",
   "execution_count": 83,
   "id": "e10f7b7b-2abb-4747-ac57-f9c2d4dcc248",
   "metadata": {},
   "outputs": [],
   "source": [
    "## compute unit-level rate statistics\n",
    "rate_model <- function(df) {\n",
    "    glm(n_events ~ foreground, data=df, offset=log(interval), family=poisson)\n",
    "}\n",
    "\n",
    "response_strength <- function(df) {\n",
    "    df <- mutate(df, rate=n_events / interval)\n",
    "    spont <- df$rate[df$foreground == \"silence\"]\n",
    "    filter(df, foreground != \"silence\") |> transmute(rate, rs=rate - spont, zscore=rs / sd(rate))\n",
    "}\n",
    "\n",
    "activity_fraction <- function(df) {\n",
    "    df |> filter(foreground!=\"silence\") |> mutate(rate=n_events / interval) |> summarize(activity_frac=(1 - sum(rate / n())**2 / sum(rate**2 / n())) / (1 - 1 / n()))\n",
    "}\n",
    "\n",
    "rate_model_responsive <- function(mdl) {\n",
    "    (\n",
    "        emmeans(mdl, ~ foreground) \n",
    "        |> contrast(\"trt.vs.ctrl\") \n",
    "        |> broom::tidy() \n",
    "        |> transmute(foreground=str_extract(contrast, \"\\\\w+\"), estimate, is_responsive=(estimate > 0) & (adj.p.value < 0.05))\n",
    "    )\n",
    "}"
   ]
  },
  {
   "cell_type": "code",
   "execution_count": 84,
   "id": "bc522335-0987-458e-af47-cc155364c24d",
   "metadata": {},
   "outputs": [
    {
     "data": {
      "text/html": [
       "<table class=\"dataframe\">\n",
       "<caption>A tibble: 10 × 8</caption>\n",
       "<thead>\n",
       "\t<tr><th scope=col>term</th><th scope=col>contrast</th><th scope=col>null.value</th><th scope=col>estimate</th><th scope=col>std.error</th><th scope=col>df</th><th scope=col>statistic</th><th scope=col>adj.p.value</th></tr>\n",
       "\t<tr><th scope=col>&lt;chr&gt;</th><th scope=col>&lt;chr&gt;</th><th scope=col>&lt;dbl[,1]&gt;</th><th scope=col>&lt;dbl&gt;</th><th scope=col>&lt;dbl&gt;</th><th scope=col>&lt;dbl&gt;</th><th scope=col>&lt;dbl&gt;</th><th scope=col>&lt;dbl&gt;</th></tr>\n",
       "</thead>\n",
       "<tbody>\n",
       "\t<tr><td>foreground</td><td>0oq8ifcb - silence</td><td>0</td><td>0.5975424</td><td>0.2653454</td><td>Inf</td><td>2.251942</td><td>1.665767e-01</td></tr>\n",
       "\t<tr><td>foreground</td><td>9ex2k0dy - silence</td><td>0</td><td>0.6602820</td><td>0.2608203</td><td>Inf</td><td>2.531560</td><td>8.615428e-02</td></tr>\n",
       "\t<tr><td>foreground</td><td>c95zqjxq - silence</td><td>0</td><td>1.1392478</td><td>0.2232038</td><td>Inf</td><td>5.104070</td><td>3.303383e-06</td></tr>\n",
       "\t<tr><td>foreground</td><td>g29wxi4q - silence</td><td>0</td><td>0.3285910</td><td>0.2879378</td><td>Inf</td><td>1.141187</td><td>8.007769e-01</td></tr>\n",
       "\t<tr><td>foreground</td><td>igmi8fxa - silence</td><td>0</td><td>0.6880610</td><td>0.2814812</td><td>Inf</td><td>2.444429</td><td>1.069291e-01</td></tr>\n",
       "\t<tr><td>foreground</td><td>jkexyrd5 - silence</td><td>0</td><td>1.3526569</td><td>0.2064713</td><td>Inf</td><td>6.551308</td><td>5.702059e-10</td></tr>\n",
       "\t<tr><td>foreground</td><td>l1a3ltpy - silence</td><td>0</td><td>1.1177999</td><td>0.2145907</td><td>Inf</td><td>5.208985</td><td>1.888961e-06</td></tr>\n",
       "\t<tr><td>foreground</td><td>p1mrfhop - silence</td><td>0</td><td>0.7057193</td><td>0.2426308</td><td>Inf</td><td>2.908614</td><td>3.043043e-02</td></tr>\n",
       "\t<tr><td>foreground</td><td>vekibwgj - silence</td><td>0</td><td>0.7129564</td><td>0.2608203</td><td>Inf</td><td>2.733516</td><td>5.038750e-02</td></tr>\n",
       "\t<tr><td>foreground</td><td>ztqee46x - silence</td><td>0</td><td>1.3183861</td><td>0.2076907</td><td>Inf</td><td>6.347833</td><td>2.182635e-09</td></tr>\n",
       "</tbody>\n",
       "</table>\n"
      ],
      "text/latex": [
       "A tibble: 10 × 8\n",
       "\\begin{tabular}{llllllll}\n",
       " term & contrast & null.value & estimate & std.error & df & statistic & adj.p.value\\\\\n",
       " <chr> & <chr> & <dbl{[},1{]}> & <dbl> & <dbl> & <dbl> & <dbl> & <dbl>\\\\\n",
       "\\hline\n",
       "\t foreground & 0oq8ifcb - silence & 0 & 0.5975424 & 0.2653454 & Inf & 2.251942 & 1.665767e-01\\\\\n",
       "\t foreground & 9ex2k0dy - silence & 0 & 0.6602820 & 0.2608203 & Inf & 2.531560 & 8.615428e-02\\\\\n",
       "\t foreground & c95zqjxq - silence & 0 & 1.1392478 & 0.2232038 & Inf & 5.104070 & 3.303383e-06\\\\\n",
       "\t foreground & g29wxi4q - silence & 0 & 0.3285910 & 0.2879378 & Inf & 1.141187 & 8.007769e-01\\\\\n",
       "\t foreground & igmi8fxa - silence & 0 & 0.6880610 & 0.2814812 & Inf & 2.444429 & 1.069291e-01\\\\\n",
       "\t foreground & jkexyrd5 - silence & 0 & 1.3526569 & 0.2064713 & Inf & 6.551308 & 5.702059e-10\\\\\n",
       "\t foreground & l1a3ltpy - silence & 0 & 1.1177999 & 0.2145907 & Inf & 5.208985 & 1.888961e-06\\\\\n",
       "\t foreground & p1mrfhop - silence & 0 & 0.7057193 & 0.2426308 & Inf & 2.908614 & 3.043043e-02\\\\\n",
       "\t foreground & vekibwgj - silence & 0 & 0.7129564 & 0.2608203 & Inf & 2.733516 & 5.038750e-02\\\\\n",
       "\t foreground & ztqee46x - silence & 0 & 1.3183861 & 0.2076907 & Inf & 6.347833 & 2.182635e-09\\\\\n",
       "\\end{tabular}\n"
      ],
      "text/markdown": [
       "\n",
       "A tibble: 10 × 8\n",
       "\n",
       "| term &lt;chr&gt; | contrast &lt;chr&gt; | null.value &lt;dbl[,1]&gt; | estimate &lt;dbl&gt; | std.error &lt;dbl&gt; | df &lt;dbl&gt; | statistic &lt;dbl&gt; | adj.p.value &lt;dbl&gt; |\n",
       "|---|---|---|---|---|---|---|---|\n",
       "| foreground | 0oq8ifcb - silence | 0 | 0.5975424 | 0.2653454 | Inf | 2.251942 | 1.665767e-01 |\n",
       "| foreground | 9ex2k0dy - silence | 0 | 0.6602820 | 0.2608203 | Inf | 2.531560 | 8.615428e-02 |\n",
       "| foreground | c95zqjxq - silence | 0 | 1.1392478 | 0.2232038 | Inf | 5.104070 | 3.303383e-06 |\n",
       "| foreground | g29wxi4q - silence | 0 | 0.3285910 | 0.2879378 | Inf | 1.141187 | 8.007769e-01 |\n",
       "| foreground | igmi8fxa - silence | 0 | 0.6880610 | 0.2814812 | Inf | 2.444429 | 1.069291e-01 |\n",
       "| foreground | jkexyrd5 - silence | 0 | 1.3526569 | 0.2064713 | Inf | 6.551308 | 5.702059e-10 |\n",
       "| foreground | l1a3ltpy - silence | 0 | 1.1177999 | 0.2145907 | Inf | 5.208985 | 1.888961e-06 |\n",
       "| foreground | p1mrfhop - silence | 0 | 0.7057193 | 0.2426308 | Inf | 2.908614 | 3.043043e-02 |\n",
       "| foreground | vekibwgj - silence | 0 | 0.7129564 | 0.2608203 | Inf | 2.733516 | 5.038750e-02 |\n",
       "| foreground | ztqee46x - silence | 0 | 1.3183861 | 0.2076907 | Inf | 6.347833 | 2.182635e-09 |\n",
       "\n"
      ],
      "text/plain": [
       "                   term       contrast           null.value estimate  std.error\n",
       "0oq8ifcb - silence foreground 0oq8ifcb - silence 0          0.5975424 0.2653454\n",
       "9ex2k0dy - silence foreground 9ex2k0dy - silence 0          0.6602820 0.2608203\n",
       "c95zqjxq - silence foreground c95zqjxq - silence 0          1.1392478 0.2232038\n",
       "g29wxi4q - silence foreground g29wxi4q - silence 0          0.3285910 0.2879378\n",
       "igmi8fxa - silence foreground igmi8fxa - silence 0          0.6880610 0.2814812\n",
       "jkexyrd5 - silence foreground jkexyrd5 - silence 0          1.3526569 0.2064713\n",
       "l1a3ltpy - silence foreground l1a3ltpy - silence 0          1.1177999 0.2145907\n",
       "p1mrfhop - silence foreground p1mrfhop - silence 0          0.7057193 0.2426308\n",
       "vekibwgj - silence foreground vekibwgj - silence 0          0.7129564 0.2608203\n",
       "ztqee46x - silence foreground ztqee46x - silence 0          1.3183861 0.2076907\n",
       "                   df  statistic adj.p.value \n",
       "0oq8ifcb - silence Inf 2.251942  1.665767e-01\n",
       "9ex2k0dy - silence Inf 2.531560  8.615428e-02\n",
       "c95zqjxq - silence Inf 5.104070  3.303383e-06\n",
       "g29wxi4q - silence Inf 1.141187  8.007769e-01\n",
       "igmi8fxa - silence Inf 2.444429  1.069291e-01\n",
       "jkexyrd5 - silence Inf 6.551308  5.702059e-10\n",
       "l1a3ltpy - silence Inf 5.208985  1.888961e-06\n",
       "p1mrfhop - silence Inf 2.908614  3.043043e-02\n",
       "vekibwgj - silence Inf 2.733516  5.038750e-02\n",
       "ztqee46x - silence Inf 6.347833  2.182635e-09"
      ]
     },
     "metadata": {},
     "output_type": "display_data"
    }
   ],
   "source": [
    "(\n",
    "    motif_rate_summary\n",
    "    |> filter(unit==\"b01e6518_2_1_c72\")\n",
    "    |> rate_model()\n",
    "    |> emmeans(~ foreground)\n",
    "    |> contrast(\"trt.vs.ctrl\")\n",
    "    |> broom::tidy()\n",
    ")"
   ]
  },
  {
   "cell_type": "code",
   "execution_count": 85,
   "id": "ebeb3f1f-ac6e-4570-93f4-df9e8d3e2439",
   "metadata": {},
   "outputs": [],
   "source": [
    "# this cell takes a long time to run - it would be nice to do this in motif_rates.py but I can't do marginal means in python\n",
    "unit_motif_responsive <- (\n",
    "    motif_rate_summary\n",
    "    |> group_by(unit)\n",
    "    |> nest()\n",
    "    |> mutate(rate_stats=purrr::map(data, response_strength))\n",
    "    |> mutate(model=purrr::map(data, rate_model))\n",
    "    |> mutate(responsive=purrr::map(model, rate_model_responsive))\n",
    "    |> select(unit, responsive, rate_stats)\n",
    "    |> unnest(cols=c(responsive, rate_stats))\n",
    ")"
   ]
  },
  {
   "cell_type": "code",
   "execution_count": 86,
   "id": "c35b5318-12c5-4707-883f-d85c40cbf053",
   "metadata": {},
   "outputs": [],
   "source": [
    "unit_rate_stats <- (\n",
    "    unit_motif_responsive\n",
    "    |> group_by(unit)\n",
    "    |> summarize(avg_evoked=mean(estimate), n_responsive=sum(is_responsive), activity_frac=(1 - sum(rate / n())**2 / sum(rate**2 / n())) / (1 - 1 / n()))\n",
    ")"
   ]
  },
  {
   "cell_type": "markdown",
   "id": "0b3fbaac-de4f-4562-a3b3-bc1def593c06",
   "metadata": {},
   "source": [
    "Join the rate and discrimination data together with metadata."
   ]
  },
  {
   "cell_type": "code",
   "execution_count": 87,
   "id": "6ab388db-15f8-4d50-b000-ef8625d0a307",
   "metadata": {},
   "outputs": [
    {
     "name": "stderr",
     "output_type": "stream",
     "text": [
      "\u001b[1m\u001b[22m`summarise()` has grouped output by 'bird', 'site', 'sex', 'group', 'area'. You\n",
      "can override using the `.groups` argument.\n"
     ]
    }
   ],
   "source": [
    "unit_summary <- (\n",
    "    unit_discrim\n",
    "    |> inner_join(unit_rate_stats, by=\"unit\")\n",
    "    |> inner_join(all_sites, by=\"site\")\n",
    ")\n",
    "\n",
    "site_summary <- (\n",
    "    unit_summary\n",
    "    |> group_by(bird, site, sex, group, area, spike)\n",
    "    |> summarize(n_units=n(), n_auditory=sum(is_auditory), n_auditory_rate=sum(n_responsive > 0))\n",
    ")\n",
    "\n",
    "unit_motif_summary <- (\n",
    "    motif_rate_summary\n",
    "    |> inner_join(select(unit_spike_features, unit, spike), by=\"unit\")\n",
    "    |> mutate(site=str_match(unit, \"[:alnum:]+_\\\\d+_\\\\d+\")[,1])\n",
    "    |> inner_join(all_sites, by=\"site\")\n",
    ")"
   ]
  },
  {
   "cell_type": "code",
   "execution_count": 88,
   "id": "564ee17b-18ae-44c4-896b-702abeaced22",
   "metadata": {},
   "outputs": [
    {
     "data": {
      "text/html": [
       "<table class=\"dataframe\">\n",
       "<caption>A grouped_df: 40 × 9</caption>\n",
       "<thead>\n",
       "\t<tr><th scope=col>bird</th><th scope=col>site</th><th scope=col>sex</th><th scope=col>group</th><th scope=col>area</th><th scope=col>spike</th><th scope=col>n_units</th><th scope=col>n_auditory</th><th scope=col>n_auditory_rate</th></tr>\n",
       "\t<tr><th scope=col>&lt;chr&gt;</th><th scope=col>&lt;chr&gt;</th><th scope=col>&lt;chr&gt;</th><th scope=col>&lt;fct&gt;</th><th scope=col>&lt;fct&gt;</th><th scope=col>&lt;fct&gt;</th><th scope=col>&lt;int&gt;</th><th scope=col>&lt;int&gt;</th><th scope=col>&lt;int&gt;</th></tr>\n",
       "</thead>\n",
       "<tbody>\n",
       "\t<tr><td>C104</td><td>C104_1_1</td><td>F</td><td>CR</td><td>L3/NCM</td><td>wide  </td><td> 50</td><td>12</td><td>15</td></tr>\n",
       "\t<tr><td>C104</td><td>C104_1_1</td><td>F</td><td>CR</td><td>L3/NCM</td><td>narrow</td><td> 16</td><td>15</td><td> 8</td></tr>\n",
       "\t<tr><td>C104</td><td>C104_2_1</td><td>F</td><td>CR</td><td>L3/NCM</td><td>wide  </td><td>  9</td><td> 2</td><td> 0</td></tr>\n",
       "\t<tr><td>C104</td><td>C104_2_1</td><td>F</td><td>CR</td><td>L3/NCM</td><td>narrow</td><td>  1</td><td> 0</td><td> 0</td></tr>\n",
       "\t<tr><td>C104</td><td>C104_3_1</td><td>F</td><td>CR</td><td>L3/NCM</td><td>wide  </td><td> 80</td><td>31</td><td>20</td></tr>\n",
       "\t<tr><td>C104</td><td>C104_3_1</td><td>F</td><td>CR</td><td>L3/NCM</td><td>narrow</td><td> 20</td><td>16</td><td>11</td></tr>\n",
       "\t<tr><td>C194</td><td>C194_2_1</td><td>M</td><td>CR</td><td>L3/NCM</td><td>wide  </td><td>105</td><td>43</td><td>35</td></tr>\n",
       "\t<tr><td>C194</td><td>C194_2_1</td><td>M</td><td>CR</td><td>L3/NCM</td><td>narrow</td><td> 14</td><td>12</td><td>11</td></tr>\n",
       "\t<tr><td>C195</td><td>C195_1_1</td><td>M</td><td>CR</td><td>L3/NCM</td><td>wide  </td><td> 64</td><td>14</td><td>18</td></tr>\n",
       "\t<tr><td>C195</td><td>C195_1_1</td><td>M</td><td>CR</td><td>L3/NCM</td><td>narrow</td><td>  6</td><td> 5</td><td> 3</td></tr>\n",
       "\t<tr><td>⋮</td><td>⋮</td><td>⋮</td><td>⋮</td><td>⋮</td><td>⋮</td><td>⋮</td><td>⋮</td><td>⋮</td></tr>\n",
       "\t<tr><td>Rb291   </td><td>Rb291_1_1   </td><td>F</td><td>CR</td><td>L3/NCM</td><td>wide  </td><td>100</td><td>28</td><td>46</td></tr>\n",
       "\t<tr><td>Rb291   </td><td>Rb291_1_1   </td><td>F</td><td>CR</td><td>L3/NCM</td><td>narrow</td><td>  8</td><td> 8</td><td> 5</td></tr>\n",
       "\t<tr><td>Rb291   </td><td>Rb291_2_1   </td><td>F</td><td>CR</td><td>L3/NCM</td><td>wide  </td><td> 45</td><td>18</td><td>20</td></tr>\n",
       "\t<tr><td>Rb291   </td><td>Rb291_2_1   </td><td>F</td><td>CR</td><td>L3/NCM</td><td>narrow</td><td> 10</td><td> 7</td><td> 7</td></tr>\n",
       "\t<tr><td>Rb291   </td><td>Rb291_3_1   </td><td>F</td><td>CR</td><td>L3/NCM</td><td>wide  </td><td> 34</td><td>12</td><td>19</td></tr>\n",
       "\t<tr><td>Rb291   </td><td>Rb291_3_1   </td><td>F</td><td>CR</td><td>L3/NCM</td><td>narrow</td><td>  6</td><td> 4</td><td> 4</td></tr>\n",
       "\t<tr><td>b01e6518</td><td>b01e6518_1_1</td><td>U</td><td>CR</td><td>L3/NCM</td><td>wide  </td><td> 26</td><td> 0</td><td> 7</td></tr>\n",
       "\t<tr><td>b01e6518</td><td>b01e6518_1_1</td><td>U</td><td>CR</td><td>L3/NCM</td><td>narrow</td><td>  1</td><td> 0</td><td> 1</td></tr>\n",
       "\t<tr><td>b01e6518</td><td>b01e6518_2_1</td><td>U</td><td>CR</td><td>L3/NCM</td><td>wide  </td><td> 27</td><td> 3</td><td>10</td></tr>\n",
       "\t<tr><td>b01e6518</td><td>b01e6518_2_1</td><td>U</td><td>CR</td><td>L3/NCM</td><td>narrow</td><td>  1</td><td> 1</td><td> 1</td></tr>\n",
       "</tbody>\n",
       "</table>\n"
      ],
      "text/latex": [
       "A grouped\\_df: 40 × 9\n",
       "\\begin{tabular}{lllllllll}\n",
       " bird & site & sex & group & area & spike & n\\_units & n\\_auditory & n\\_auditory\\_rate\\\\\n",
       " <chr> & <chr> & <chr> & <fct> & <fct> & <fct> & <int> & <int> & <int>\\\\\n",
       "\\hline\n",
       "\t C104 & C104\\_1\\_1 & F & CR & L3/NCM & wide   &  50 & 12 & 15\\\\\n",
       "\t C104 & C104\\_1\\_1 & F & CR & L3/NCM & narrow &  16 & 15 &  8\\\\\n",
       "\t C104 & C104\\_2\\_1 & F & CR & L3/NCM & wide   &   9 &  2 &  0\\\\\n",
       "\t C104 & C104\\_2\\_1 & F & CR & L3/NCM & narrow &   1 &  0 &  0\\\\\n",
       "\t C104 & C104\\_3\\_1 & F & CR & L3/NCM & wide   &  80 & 31 & 20\\\\\n",
       "\t C104 & C104\\_3\\_1 & F & CR & L3/NCM & narrow &  20 & 16 & 11\\\\\n",
       "\t C194 & C194\\_2\\_1 & M & CR & L3/NCM & wide   & 105 & 43 & 35\\\\\n",
       "\t C194 & C194\\_2\\_1 & M & CR & L3/NCM & narrow &  14 & 12 & 11\\\\\n",
       "\t C195 & C195\\_1\\_1 & M & CR & L3/NCM & wide   &  64 & 14 & 18\\\\\n",
       "\t C195 & C195\\_1\\_1 & M & CR & L3/NCM & narrow &   6 &  5 &  3\\\\\n",
       "\t ⋮ & ⋮ & ⋮ & ⋮ & ⋮ & ⋮ & ⋮ & ⋮ & ⋮\\\\\n",
       "\t Rb291    & Rb291\\_1\\_1    & F & CR & L3/NCM & wide   & 100 & 28 & 46\\\\\n",
       "\t Rb291    & Rb291\\_1\\_1    & F & CR & L3/NCM & narrow &   8 &  8 &  5\\\\\n",
       "\t Rb291    & Rb291\\_2\\_1    & F & CR & L3/NCM & wide   &  45 & 18 & 20\\\\\n",
       "\t Rb291    & Rb291\\_2\\_1    & F & CR & L3/NCM & narrow &  10 &  7 &  7\\\\\n",
       "\t Rb291    & Rb291\\_3\\_1    & F & CR & L3/NCM & wide   &  34 & 12 & 19\\\\\n",
       "\t Rb291    & Rb291\\_3\\_1    & F & CR & L3/NCM & narrow &   6 &  4 &  4\\\\\n",
       "\t b01e6518 & b01e6518\\_1\\_1 & U & CR & L3/NCM & wide   &  26 &  0 &  7\\\\\n",
       "\t b01e6518 & b01e6518\\_1\\_1 & U & CR & L3/NCM & narrow &   1 &  0 &  1\\\\\n",
       "\t b01e6518 & b01e6518\\_2\\_1 & U & CR & L3/NCM & wide   &  27 &  3 & 10\\\\\n",
       "\t b01e6518 & b01e6518\\_2\\_1 & U & CR & L3/NCM & narrow &   1 &  1 &  1\\\\\n",
       "\\end{tabular}\n"
      ],
      "text/markdown": [
       "\n",
       "A grouped_df: 40 × 9\n",
       "\n",
       "| bird &lt;chr&gt; | site &lt;chr&gt; | sex &lt;chr&gt; | group &lt;fct&gt; | area &lt;fct&gt; | spike &lt;fct&gt; | n_units &lt;int&gt; | n_auditory &lt;int&gt; | n_auditory_rate &lt;int&gt; |\n",
       "|---|---|---|---|---|---|---|---|---|\n",
       "| C104 | C104_1_1 | F | CR | L3/NCM | wide   |  50 | 12 | 15 |\n",
       "| C104 | C104_1_1 | F | CR | L3/NCM | narrow |  16 | 15 |  8 |\n",
       "| C104 | C104_2_1 | F | CR | L3/NCM | wide   |   9 |  2 |  0 |\n",
       "| C104 | C104_2_1 | F | CR | L3/NCM | narrow |   1 |  0 |  0 |\n",
       "| C104 | C104_3_1 | F | CR | L3/NCM | wide   |  80 | 31 | 20 |\n",
       "| C104 | C104_3_1 | F | CR | L3/NCM | narrow |  20 | 16 | 11 |\n",
       "| C194 | C194_2_1 | M | CR | L3/NCM | wide   | 105 | 43 | 35 |\n",
       "| C194 | C194_2_1 | M | CR | L3/NCM | narrow |  14 | 12 | 11 |\n",
       "| C195 | C195_1_1 | M | CR | L3/NCM | wide   |  64 | 14 | 18 |\n",
       "| C195 | C195_1_1 | M | CR | L3/NCM | narrow |   6 |  5 |  3 |\n",
       "| ⋮ | ⋮ | ⋮ | ⋮ | ⋮ | ⋮ | ⋮ | ⋮ | ⋮ |\n",
       "| Rb291    | Rb291_1_1    | F | CR | L3/NCM | wide   | 100 | 28 | 46 |\n",
       "| Rb291    | Rb291_1_1    | F | CR | L3/NCM | narrow |   8 |  8 |  5 |\n",
       "| Rb291    | Rb291_2_1    | F | CR | L3/NCM | wide   |  45 | 18 | 20 |\n",
       "| Rb291    | Rb291_2_1    | F | CR | L3/NCM | narrow |  10 |  7 |  7 |\n",
       "| Rb291    | Rb291_3_1    | F | CR | L3/NCM | wide   |  34 | 12 | 19 |\n",
       "| Rb291    | Rb291_3_1    | F | CR | L3/NCM | narrow |   6 |  4 |  4 |\n",
       "| b01e6518 | b01e6518_1_1 | U | CR | L3/NCM | wide   |  26 |  0 |  7 |\n",
       "| b01e6518 | b01e6518_1_1 | U | CR | L3/NCM | narrow |   1 |  0 |  1 |\n",
       "| b01e6518 | b01e6518_2_1 | U | CR | L3/NCM | wide   |  27 |  3 | 10 |\n",
       "| b01e6518 | b01e6518_2_1 | U | CR | L3/NCM | narrow |   1 |  1 |  1 |\n",
       "\n"
      ],
      "text/plain": [
       "   bird     site         sex group area   spike  n_units n_auditory\n",
       "1  C104     C104_1_1     F   CR    L3/NCM wide    50     12        \n",
       "2  C104     C104_1_1     F   CR    L3/NCM narrow  16     15        \n",
       "3  C104     C104_2_1     F   CR    L3/NCM wide     9      2        \n",
       "4  C104     C104_2_1     F   CR    L3/NCM narrow   1      0        \n",
       "5  C104     C104_3_1     F   CR    L3/NCM wide    80     31        \n",
       "6  C104     C104_3_1     F   CR    L3/NCM narrow  20     16        \n",
       "7  C194     C194_2_1     M   CR    L3/NCM wide   105     43        \n",
       "8  C194     C194_2_1     M   CR    L3/NCM narrow  14     12        \n",
       "9  C195     C195_1_1     M   CR    L3/NCM wide    64     14        \n",
       "10 C195     C195_1_1     M   CR    L3/NCM narrow   6      5        \n",
       "⋮  ⋮        ⋮            ⋮   ⋮     ⋮      ⋮      ⋮       ⋮         \n",
       "31 Rb291    Rb291_1_1    F   CR    L3/NCM wide   100     28        \n",
       "32 Rb291    Rb291_1_1    F   CR    L3/NCM narrow   8      8        \n",
       "33 Rb291    Rb291_2_1    F   CR    L3/NCM wide    45     18        \n",
       "34 Rb291    Rb291_2_1    F   CR    L3/NCM narrow  10      7        \n",
       "35 Rb291    Rb291_3_1    F   CR    L3/NCM wide    34     12        \n",
       "36 Rb291    Rb291_3_1    F   CR    L3/NCM narrow   6      4        \n",
       "37 b01e6518 b01e6518_1_1 U   CR    L3/NCM wide    26      0        \n",
       "38 b01e6518 b01e6518_1_1 U   CR    L3/NCM narrow   1      0        \n",
       "39 b01e6518 b01e6518_2_1 U   CR    L3/NCM wide    27      3        \n",
       "40 b01e6518 b01e6518_2_1 U   CR    L3/NCM narrow   1      1        \n",
       "   n_auditory_rate\n",
       "1  15             \n",
       "2   8             \n",
       "3   0             \n",
       "4   0             \n",
       "5  20             \n",
       "6  11             \n",
       "7  35             \n",
       "8  11             \n",
       "9  18             \n",
       "10  3             \n",
       "⋮  ⋮              \n",
       "31 46             \n",
       "32  5             \n",
       "33 20             \n",
       "34  7             \n",
       "35 19             \n",
       "36  4             \n",
       "37  7             \n",
       "38  1             \n",
       "39 10             \n",
       "40  1             "
      ]
     },
     "metadata": {},
     "output_type": "display_data"
    }
   ],
   "source": [
    "site_summary"
   ]
  },
  {
   "cell_type": "code",
   "execution_count": 89,
   "id": "1d9d2c8f-885d-49ab-879f-e16812c5d2e8",
   "metadata": {},
   "outputs": [],
   "source": [
    "# save for plotting elsewhere\n",
    "unit_motif_responsive |> write.csv(\"../build/motif_rate_coefs.csv\", quote=F, row.names=F)"
   ]
  },
  {
   "cell_type": "markdown",
   "id": "110c6db6-476c-4228-aaa6-720b0bb036e7",
   "metadata": {},
   "source": [
    "## Example units"
   ]
  },
  {
   "cell_type": "code",
   "execution_count": null,
   "id": "9590912e-dab4-4556-ae8c-c2a0448a9b52",
   "metadata": {},
   "outputs": [],
   "source": [
    "(\n",
    "    unit_summary\n",
    "    |> filter(area==\"L3/NCM\", spike==\"narrow\", is_auditory)\n",
    "    |> arrange(n_responsive)\n",
    "    |> select(unit, score, spikes_mean, nonzero_trials, n_discrim, activity_frac, n_responsive)\n",
    "    |> filter(score < 1, n_discrim==8)\n",
    "    |> arrange(score)\n",
    ")"
   ]
  },
  {
   "cell_type": "markdown",
   "id": "a2027855-8f59-4a52-aa30-21ae93df156a",
   "metadata": {},
   "source": [
    "## Single-Unit statistics"
   ]
  },
  {
   "cell_type": "markdown",
   "id": "e47e30c5-5764-49fb-8cbb-54580d83890b",
   "metadata": {
    "jp-MarkdownHeadingCollapsed": true,
    "tags": []
   },
   "source": [
    "### Number of units per site\n",
    "\n",
    "Supplementary"
   ]
  },
  {
   "cell_type": "code",
   "execution_count": null,
   "id": "f597f00b-005a-4e4f-904c-e34c705e2fc0",
   "metadata": {},
   "outputs": [],
   "source": [
    "options(repr.plot.width=4, repr.plot.height=2.5, repr.plot.res = 300)\n",
    "p3.1 <- (\n",
    "    site_summary\n",
    "    |> ggplot(aes(spike, n_units, fill=group))\n",
    "    + facet_wrap(~ area)\n",
    "    + geom_boxplot(width=0.5, outlier.size=1)\n",
    "    + scale_y_log10(name=\"total units per site\")\n",
    "    + scale_x_discrete(name=\"spike shape\")\n",
    ")\n",
    "p3.1 + theme_classic() + my.theme"
   ]
  },
  {
   "cell_type": "code",
   "execution_count": null,
   "id": "a48a8831-c404-4291-91fd-a3dfa02f2a19",
   "metadata": {},
   "outputs": [],
   "source": [
    "# GLMM\n",
    "fm_units <- glmer(n_units ~ area*spike*group + (1 + spike|site), site_summary, control=glmerControl(optimizer=\"bobyqa\"), family=poisson)\n",
    "emmeans(fm_units, ~ group | area*spike) |> contrast(\"pairwise\")"
   ]
  },
  {
   "cell_type": "code",
   "execution_count": null,
   "id": "1f074f7a-09b5-4f91-98da-4fe3594c0dfc",
   "metadata": {},
   "outputs": [],
   "source": [
    "options(repr.plot.width=1.8, repr.plot.height=1.45, repr.plot.res = 450)\n",
    "p <- (\n",
    "    fm_units\n",
    "    |> emmeans(~ group*spike*area)\n",
    "    |> confint(level=0.90, type=\"response\")\n",
    "    |> ggplot(aes(area, rate, color=group))\n",
    "    + facet_wrap(~ spike)\n",
    "    + geom_point(position=position_dodge(width=0.5), size=1)\n",
    "    + geom_linerange(aes(ymin=asymp.LCL, ymax=asymp.UCL), position=position_dodge(width=0.5))\n",
    "    + scale_x_discrete(name=NULL)\n",
    "    + scale_y_log10(name=\"total units per site\")\n",
    "    + theme_classic() + my.theme + no.legend\n",
    ")\n",
    "p "
   ]
  },
  {
   "cell_type": "code",
   "execution_count": null,
   "id": "7a9cf1ea-e3b5-4616-ac84-20da20f94676",
   "metadata": {},
   "outputs": [],
   "source": [
    "pdf(\"../figures/total_units_per_site.pdf\", width=1.8, height=1.45)\n",
    "print(p)\n",
    "dev.off()"
   ]
  },
  {
   "cell_type": "markdown",
   "id": "f0024eba-5201-42f7-821e-9359085848fe",
   "metadata": {
    "tags": []
   },
   "source": [
    "### Spontaneous firing rate"
   ]
  },
  {
   "cell_type": "code",
   "execution_count": 90,
   "id": "2e107f97-3bf0-4656-9008-8f23fc3a2b6a",
   "metadata": {},
   "outputs": [
    {
     "data": {
      "image/png": "[encoded data removed]",
      "text/plain": [
       "plot without title"
      ]
     },
     "metadata": {
      "image/png": {
       "height": 375,
       "width": 600
      }
     },
     "output_type": "display_data"
    }
   ],
   "source": [
    "options(repr.plot.width=4, repr.plot.height=2.5, repr.plot.res = 300)\n",
    "p <- (\n",
    "    unit_motif_summary\n",
    "    |> filter(foreground==\"silence\")\n",
    "    |> mutate(rate=mean(n_events / interval))\n",
    "    |> ggplot(aes(spike, rate, color=group))\n",
    "    + facet_wrap(~ age_group)\n",
    "    + geom_boxplot()\n",
    "    + scale_y_continuous(name=\"Spontaneous rate (Hz)\")\n",
    ")\n",
    "p + theme_classic() + my.theme"
   ]
  },
  {
   "cell_type": "code",
   "execution_count": 92,
   "id": "6d91072f-ddce-4678-a3b8-b644b4b42ced",
   "metadata": {},
   "outputs": [
    {
     "name": "stderr",
     "output_type": "stream",
     "text": [
      "fixed-effect model matrix is rank deficient so dropping 2 columns / coefficients\n",
      "\n"
     ]
    }
   ],
   "source": [
    "fm_spont <- glmer(\n",
    "    n_events ~ age_group*spike*group + (1|unit),\n",
    "    offset=log(interval),\n",
    "    family=poisson,\n",
    "    control=glmerControl(optimizer = \"bobyqa\"),\n",
    "    data=unit_motif_summary |> filter(foreground==\"silence\")\n",
    ")"
   ]
  },
  {
   "cell_type": "code",
   "execution_count": 93,
   "id": "e396979c-5d8e-4ad3-88a5-7f852f4d2754",
   "metadata": {},
   "outputs": [
    {
     "data": {
      "text/plain": [
       "age_group = J30, spike = wide:\n",
       " contrast estimate    SE  df z.ratio p.value\n",
       " CR - PR    nonEst    NA  NA      NA      NA\n",
       "\n",
       "age_group = Adult, spike = wide:\n",
       " contrast estimate    SE  df z.ratio p.value\n",
       " CR - PR     0.731 0.139 Inf   5.272  <.0001\n",
       "\n",
       "age_group = J30, spike = narrow:\n",
       " contrast estimate    SE  df z.ratio p.value\n",
       " CR - PR    nonEst    NA  NA      NA      NA\n",
       "\n",
       "age_group = Adult, spike = narrow:\n",
       " contrast estimate    SE  df z.ratio p.value\n",
       " CR - PR     2.512 0.246 Inf  10.197  <.0001\n",
       "\n",
       "Results are given on the log (not the response) scale. "
      ]
     },
     "metadata": {},
     "output_type": "display_data"
    }
   ],
   "source": [
    "(\n",
    "    fm_spont\n",
    "    |> emmeans(~ group | age_group*spike)\n",
    "    |> contrast(\"pairwise\")\n",
    ")"
   ]
  },
  {
   "cell_type": "code",
   "execution_count": 95,
   "id": "f9ece482-fd04-46df-8bef-893519656f84",
   "metadata": {},
   "outputs": [
    {
     "name": "stderr",
     "output_type": "stream",
     "text": [
      "Warning message:\n",
      "“\u001b[1m\u001b[22mRemoved 2 rows containing missing values or values outside the scale range\n",
      "(`geom_point()`).”\n",
      "Warning message:\n",
      "“\u001b[1m\u001b[22mRemoved 1 row containing missing values or values outside the scale range\n",
      "(`geom_segment()`).”\n",
      "Warning message:\n",
      "“\u001b[1m\u001b[22mRemoved 1 row containing missing values or values outside the scale range\n",
      "(`geom_segment()`).”\n"
     ]
    },
    {
     "data": {
      "image/png": "[encoded data removed]",
      "text/plain": [
       "plot without title"
      ]
     },
     "metadata": {
      "image/png": {
       "height": 326.25,
       "width": 405
      }
     },
     "output_type": "display_data"
    }
   ],
   "source": [
    "options(repr.plot.width=1.8, repr.plot.height=1.45, repr.plot.res = 450)\n",
    "p <- (\n",
    "    fm_spont\n",
    "    |> emmeans(~ group*spike*age_group, type=\"response\", offset=0)\n",
    "    |> confint(level=0.90)\n",
    "    |> ggplot(aes(age_group, rate, color=group))\n",
    "    + facet_wrap(~ spike)\n",
    "    + geom_point(position=position_dodge(width=0.5), size=1)\n",
    "    + geom_linerange(aes(ymin=asymp.LCL, ymax=asymp.UCL), position=position_dodge(width=0.5))\n",
    "    + scale_x_discrete(name=NULL)\n",
    "    + scale_y_log10(name=\"Spont rate (Hz)\")\n",
    "    + theme_classic() + my.theme + no.legend\n",
    ")\n",
    "p "
   ]
  },
  {
   "cell_type": "code",
   "execution_count": null,
   "id": "1e085c08-c657-4493-bd67-27c2a988b575",
   "metadata": {},
   "outputs": [],
   "source": [
    "pdf(\"../figures/spont_rate_all_units.pdf\", width=1.8, height=1.5)\n",
    "print(p)\n",
    "dev.off()"
   ]
  },
  {
   "cell_type": "markdown",
   "id": "dec5829d-2b93-4ec6-9534-1f97ebd4088f",
   "metadata": {
    "jp-MarkdownHeadingCollapsed": true,
    "tags": []
   },
   "source": [
    "### Evoked rate"
   ]
  },
  {
   "cell_type": "code",
   "execution_count": null,
   "id": "b296c313-6c53-4813-ac41-d90af8b6e29e",
   "metadata": {},
   "outputs": [],
   "source": [
    "options(repr.plot.width=4, repr.plot.height=2.5, repr.plot.res = 300)\n",
    "p <- (\n",
    "    unit_motif_summary\n",
    "    |> filter(foreground!=\"silence\")\n",
    "    |> mutate(rate=mean(n_events / interval))\n",
    "    |> group_by(group, area, spike, unit)\n",
    "    |> summarize(rate=mean(rate))\n",
    "    |> ggplot(aes(area, rate, color=group))\n",
    "    + facet_wrap(~ spike)\n",
    "    + geom_boxplot()\n",
    "    + scale_y_log10(name=\"Evoked rate (Hz)\")\n",
    "    + theme_classic() + my.theme\n",
    ")\n",
    "p "
   ]
  },
  {
   "cell_type": "code",
   "execution_count": null,
   "id": "7f4df632-63b8-4fb7-aeb5-e2327c6a04a2",
   "metadata": {},
   "outputs": [],
   "source": [
    "fm_evoked <- glmer(\n",
    "    n_events ~ group*area*spike + (1|unit),\n",
    "    offset=log(interval),\n",
    "    family=poisson,\n",
    "    control=glmerControl(optimizer=\"bobyqa\"),\n",
    "    data=unit_motif_summary |> filter(foreground!=\"silence\")\n",
    ")"
   ]
  },
  {
   "cell_type": "code",
   "execution_count": null,
   "id": "c5323651-0506-4fd2-ab42-ce6d71b4f212",
   "metadata": {},
   "outputs": [],
   "source": [
    "(\n",
    "    fm_evoked\n",
    "    |> emmeans(~ group | area*spike)\n",
    "    |> contrast(\"pairwise\")\n",
    ")"
   ]
  },
  {
   "cell_type": "code",
   "execution_count": null,
   "id": "9cac8f43-9cfa-4ace-a6fe-2969485549b5",
   "metadata": {},
   "outputs": [],
   "source": [
    "options(repr.plot.width=1.8, repr.plot.height=1.45, repr.plot.res = 450)\n",
    "p <- (\n",
    "    fm_evoked\n",
    "    |> emmeans(~ group*spike*area, type=\"response\", offset=0)\n",
    "    |> confint(level=0.90)\n",
    "    |> ggplot(aes(area, rate, color=group))\n",
    "    + facet_wrap(~ spike)\n",
    "    + geom_point(position=position_dodge(width=0.5), size=1)\n",
    "    + geom_linerange(aes(ymin=asymp.LCL, ymax=asymp.UCL), position=position_dodge(width=0.5))\n",
    "    + scale_x_discrete(name=NULL)\n",
    "    + scale_y_log10(name=\"Evoked rate (Hz)\")\n",
    "    + theme_classic() + my.theme + no.legend\n",
    ")\n",
    "p "
   ]
  },
  {
   "cell_type": "code",
   "execution_count": null,
   "id": "ded2b0d2-fc4e-4aeb-9826-4200feaa64e2",
   "metadata": {},
   "outputs": [],
   "source": [
    "pdf(\"../figures/evoked_rate_all_units.pdf\", width=1.8, height=1.45)\n",
    "print(p)\n",
    "dev.off()"
   ]
  },
  {
   "cell_type": "markdown",
   "id": "90b50537-97a8-4849-a499-b470674c5b15",
   "metadata": {
    "jp-MarkdownHeadingCollapsed": true,
    "tags": []
   },
   "source": [
    "### Discriminability\n",
    "\n",
    "Discriminability is what we use to decide whether neurons are auditory or not, so any trends need to be analyzed using all neurons."
   ]
  },
  {
   "cell_type": "code",
   "execution_count": null,
   "id": "07d2405c-094a-49ec-9cc0-206b9bb79d04",
   "metadata": {},
   "outputs": [],
   "source": [
    "## raw classifier scores\n",
    "options(repr.plot.width=4, repr.plot.height=2.5, repr.plot.res = 300)\n",
    "p <- (\n",
    "    unit_summary\n",
    "    |> ggplot(aes(area, score, fill=group))\n",
    "    + facet_wrap(~ spike)\n",
    "    + geom_violin()\n",
    "    + my.theme\n",
    ")\n",
    "p "
   ]
  },
  {
   "cell_type": "code",
   "execution_count": null,
   "id": "6458ae1f-1692-4883-8981-c86b8af70925",
   "metadata": {},
   "outputs": [],
   "source": [
    "## GLMM\n",
    "## There are 90 comparisons for each trial, so score can be converted to a binomial RV by multiplying by 90\n",
    "fm_discrim_score <- (\n",
    "    unit_summary \n",
    "    |> mutate(n_correct=score * 90)\n",
    "    |> glmer(cbind(n_correct, 90 - n_correct) ~ group*area*spike + (1|unit), \n",
    "             data=_, \n",
    "             control=glmerControl(optimizer=\"bobyqa\"), \n",
    "             family=binomial)\n",
    ")\n",
    "emmeans(fm_discrim_score, ~ group | area*spike) |> contrast(\"pairwise\")"
   ]
  },
  {
   "cell_type": "code",
   "execution_count": null,
   "id": "ce2cd31e-ce34-4f88-a642-8ab902bf52b5",
   "metadata": {},
   "outputs": [],
   "source": [
    "options(repr.plot.width=1.8, repr.plot.height=1.45, repr.plot.res = 450)\n",
    "p <- (\n",
    "    fm_discrim_score\n",
    "    |> emmeans(~ group*spike*area, type=\"response\")\n",
    "    |> confint(level=0.90)\n",
    "    |> ggplot(aes(area, prob, color=group))\n",
    "    + facet_wrap(~ spike)\n",
    "    + geom_point(position=position_dodge(width=0.5), size=1)\n",
    "    + geom_linerange(aes(ymin=asymp.LCL, ymax=asymp.UCL), position=position_dodge(width=0.5))\n",
    "    + scale_x_discrete(name=NULL)\n",
    "    + scale_y_continuous(name=\"Discriminability\", limits=c(0,1))\n",
    "    + theme_classic() + my.theme + no.legend\n",
    ")\n",
    "p "
   ]
  },
  {
   "cell_type": "code",
   "execution_count": null,
   "id": "8013a965-3ed1-4fec-9b86-e250e832c45e",
   "metadata": {},
   "outputs": [],
   "source": [
    "pdf(\"../figures/discriminability_all_units.pdf\", width=1.8, height=1.45)\n",
    "print(p)\n",
    "dev.off()"
   ]
  },
  {
   "cell_type": "code",
   "execution_count": null,
   "id": "e7715ca7-f170-4e02-b359-f460576767d1",
   "metadata": {},
   "outputs": [],
   "source": [
    "## number of discriminable motifs\n",
    "options(repr.plot.width=4, repr.plot.height=2.5, repr.plot.res = 300)\n",
    "p <- (\n",
    "    unit_summary\n",
    "    |> ggplot(aes(area, n_discrim/10, fill=group))\n",
    "    + facet_wrap(~ spike)\n",
    "    + geom_boxplot()\n",
    "    + theme_classic() + my.theme + no.legend\n",
    ")\n",
    "p + my.theme"
   ]
  },
  {
   "cell_type": "code",
   "execution_count": null,
   "id": "54818712-b98b-4d07-97a4-976b858e0535",
   "metadata": {},
   "outputs": [],
   "source": [
    "## GLMM\n",
    "## Alternatively, how many motifs are discriminable\n",
    "fm_discrim_n <- (\n",
    "    unit_summary\n",
    "    |> glmer(cbind(n_discrim, 9 - n_discrim) ~ group*area*spike + (1|unit), data=_, control=glmerControl(optimizer=\"bobyqa\"), family=binomial)\n",
    ")\n",
    "emmeans(fm_discrim_n, ~ group | area*spike) |> contrast(\"pairwise\")"
   ]
  },
  {
   "cell_type": "code",
   "execution_count": null,
   "id": "ea3282ba-2529-44d9-8d12-67a5eab93394",
   "metadata": {},
   "outputs": [],
   "source": [
    "options(repr.plot.width=1.8, repr.plot.height=1.45, repr.plot.res = 450)\n",
    "p <- (\n",
    "    fm_discrim_n\n",
    "    |> emmeans(~ group*spike*area, type=\"response\")\n",
    "    |> confint(level=0.90)\n",
    "    |> ggplot(aes(area, prob, color=group))\n",
    "    + facet_wrap(~ spike)\n",
    "    + geom_point(position=position_dodge(width=0.5), size=1)\n",
    "    + geom_linerange(aes(ymin=asymp.LCL, ymax=asymp.UCL), position=position_dodge(width=0.5))\n",
    "    + scale_x_discrete(name=NULL)\n",
    "    + scale_y_continuous(name=\"p(discriminable)\", limits=c(0,1))\n",
    "    + theme_classic() + my.theme + no.legend\n",
    ")\n",
    "p "
   ]
  },
  {
   "cell_type": "code",
   "execution_count": null,
   "id": "fdf33d6f-ce70-45c4-9d54-454cec5bfd01",
   "metadata": {},
   "outputs": [],
   "source": [
    "pdf(\"../figures/p_discriminable_all_units.pdf\", width=1.8, height=1.45)\n",
    "print(p)\n",
    "dev.off()"
   ]
  },
  {
   "cell_type": "markdown",
   "id": "dcf3237d-dc69-453b-849e-4b73c8f6fded",
   "metadata": {
    "jp-MarkdownHeadingCollapsed": true,
    "tags": []
   },
   "source": [
    "### Number of auditory units per site\n",
    "\n",
    "Supplementary"
   ]
  },
  {
   "cell_type": "code",
   "execution_count": null,
   "id": "7c8ed594-09c2-429a-97df-4650ac2ca231",
   "metadata": {},
   "outputs": [],
   "source": [
    "options(repr.plot.width=4, repr.plot.height=2.5, repr.plot.res = 300)\n",
    "(\n",
    "    site_summary\n",
    "    |> ggplot(aes(area, n_auditory, fill=group))\n",
    "    + facet_wrap(~ spike)\n",
    "    + geom_boxplot()\n",
    "    + my.theme\n",
    ")"
   ]
  },
  {
   "cell_type": "code",
   "execution_count": null,
   "id": "988fc332-c2e3-44d5-83c4-754e375b5e3e",
   "metadata": {},
   "outputs": [],
   "source": [
    "(\n",
    "    site_summary\n",
    "    |> ggplot(aes(area, n_auditory_rate, fill=group))\n",
    "    + facet_wrap(~ spike)\n",
    "    + geom_boxplot()\n",
    "    + my.theme\n",
    ")"
   ]
  },
  {
   "cell_type": "code",
   "execution_count": null,
   "id": "73efa2fe-e5fa-49eb-87b8-cad91eee53ba",
   "metadata": {},
   "outputs": [],
   "source": [
    "# GLMM\n",
    "fm_aud_units <- glmer(n_auditory ~ group*area*spike + (1 + spike|site), site_summary, control=glmerControl(optimizer=\"bobyqa\"), family=poisson)\n",
    "emmeans(fm_aud_units, ~ group | area*spike) |> contrast(\"pairwise\")"
   ]
  },
  {
   "cell_type": "code",
   "execution_count": null,
   "id": "ab69c8ad-0112-4657-92bd-3670cd5a2017",
   "metadata": {},
   "outputs": [],
   "source": [
    "options(repr.plot.width=1.8, repr.plot.height=1.45, repr.plot.res = 450)\n",
    "p <- (\n",
    "    fm_aud_units\n",
    "    |> emmeans(~ group*spike*area)\n",
    "    |> confint(level=0.90, type=\"response\")\n",
    "    |> ggplot(aes(area, rate, color=group))\n",
    "    + facet_wrap(~ spike)\n",
    "    + geom_point(position=position_dodge(width=0.5), size=1)\n",
    "    + geom_linerange(aes(ymin=asymp.LCL, ymax=asymp.UCL), position=position_dodge(width=0.5))\n",
    "    + scale_x_discrete(name=NULL)\n",
    "    + scale_y_log10(name=\"auditory units per site\")\n",
    "    + theme_classic() + my.theme + no.legend\n",
    ")\n",
    "p "
   ]
  },
  {
   "cell_type": "code",
   "execution_count": null,
   "id": "7d7fd316-a675-46b7-b00d-bbffb7ed1cfa",
   "metadata": {},
   "outputs": [],
   "source": [
    "pdf(\"../figures/aud_units_per_site.pdf\", width=1.8, height=1.45)\n",
    "print(p)\n",
    "dev.off()"
   ]
  },
  {
   "cell_type": "code",
   "execution_count": null,
   "id": "c5074d27-c455-4fc6-8ad3-387c8876402a",
   "metadata": {},
   "outputs": [],
   "source": [
    "options(repr.plot.width=4, repr.plot.height=2.5, repr.plot.res = 300)\n",
    "(\n",
    "    site_summary\n",
    "    |> ggplot(aes(area, n_auditory / n_units, fill=group))\n",
    "    + facet_wrap(~ spike)\n",
    "    + geom_boxplot()\n",
    "    + scale_y_continuous(name=\"p(responsive)\", limits=c(0, 1))\n",
    "    + my.theme\n",
    ")"
   ]
  },
  {
   "cell_type": "code",
   "execution_count": null,
   "id": "c03b7ea9-4845-4881-8b58-36d1c0c16f92",
   "metadata": {},
   "outputs": [],
   "source": [
    "fm_aud_prop <- glmer(\n",
    "    cbind(n_auditory, n_units - n_auditory) ~ group*area*spike + (1 + spike|site), \n",
    "    site_summary,\n",
    "    control=glmerControl(optimizer=\"bobyqa\"),\n",
    "    family=binomial)\n",
    "emmeans(fm_aud_prop, ~ group | area*spike) |> contrast(\"pairwise\")"
   ]
  },
  {
   "cell_type": "code",
   "execution_count": null,
   "id": "9070e8ec-af49-468b-91ee-ef0d3ac41ecf",
   "metadata": {},
   "outputs": [],
   "source": [
    "options(repr.plot.width=1.8, repr.plot.height=1.45, repr.plot.res = 450)\n",
    "p <- (\n",
    "    fm_aud_prop\n",
    "    |> emmeans(~ group*spike*area)\n",
    "    |> confint(level=0.90, type=\"response\")\n",
    "    |> ggplot(aes(area, prob, color=group))\n",
    "    + facet_wrap(~ spike)\n",
    "    + geom_point(position=position_dodge(width=0.5), size=1)\n",
    "    + geom_linerange(aes(ymin=asymp.LCL, ymax=asymp.UCL), position=position_dodge(width=0.5))\n",
    "    + scale_x_discrete(name=NULL)\n",
    "    + scale_y_continuous(name=\"p(auditory)\", limits=c(0,1))\n",
    "    + theme_classic() + my.theme + no.legend\n",
    ")\n",
    "p"
   ]
  },
  {
   "cell_type": "code",
   "execution_count": null,
   "id": "d0c6cf6e-3273-4a01-920c-9b53b5c6896c",
   "metadata": {},
   "outputs": [],
   "source": [
    "pdf(\"../figures/aud_units_proportion_site.pdf\", width=1.8, height=1.45)\n",
    "print(p)\n",
    "dev.off()"
   ]
  },
  {
   "cell_type": "markdown",
   "id": "5b71d398-b9f0-4ae1-9864-d265482f62cf",
   "metadata": {
    "tags": []
   },
   "source": [
    "### Selectivity (auditory units only)\n",
    "\n",
    "A very simple definition of selectivity is related to what proportion of stimuli evoke a significant response."
   ]
  },
  {
   "cell_type": "code",
   "execution_count": null,
   "id": "cda57573-5cb5-458e-a870-5c334d7ec9c0",
   "metadata": {},
   "outputs": [],
   "source": [
    "options(repr.plot.width=4, repr.plot.height=2.5, repr.plot.res = 300)\n",
    "p <- (\n",
    "    unit_summary\n",
    "    |> filter(is_auditory)\n",
    "    |> ggplot(aes(area, 1 - n_responsive/10, fill=group))\n",
    "    + facet_wrap(~ spike)\n",
    "    + geom_violin()\n",
    ")\n",
    "p + my.theme"
   ]
  },
  {
   "cell_type": "code",
   "execution_count": null,
   "id": "0492cbdd-aa57-4b8b-b889-3a0adb1ebcec",
   "metadata": {},
   "outputs": [],
   "source": [
    "## GLMM\n",
    "fm_selectivity <- (\n",
    "    unit_summary \n",
    "    |> filter(is_auditory)\n",
    "    |> glmer(\n",
    "        cbind(10 - n_responsive, n_responsive) ~ group*area*spike + (1|unit), \n",
    "        data=_,\n",
    "        control=glmerControl(optimizer=\"bobyqa\"),\n",
    "        family=binomial)\n",
    ")\n",
    "emmeans(fm_selectivity, ~ group | area*spike) |> contrast(\"pairwise\")"
   ]
  },
  {
   "cell_type": "code",
   "execution_count": null,
   "id": "e8208402-857c-4a7d-a5ee-9360c4554a8b",
   "metadata": {},
   "outputs": [],
   "source": [
    "options(repr.plot.width=1.8, repr.plot.height=1.45, repr.plot.res = 450)\n",
    "p <- (\n",
    "    fm_selectivity\n",
    "    |> emmeans(~ group*spike*area, type=\"response\")\n",
    "    |> confint(level=0.90)\n",
    "    |> ggplot(aes(area, prob, color=group))\n",
    "    + facet_wrap(~ spike)\n",
    "    + geom_point(position=position_dodge(width=0.5), size=1)\n",
    "    + geom_linerange(aes(ymin=asymp.LCL, ymax=asymp.UCL), position=position_dodge(width=0.5))\n",
    "    + scale_x_discrete(name=NULL)\n",
    "    + scale_y_continuous(name=\"Selectivity\", limits=c(0,1))\n",
    "    + theme_classic() + my.theme + no.legend\n",
    ")\n",
    "p "
   ]
  },
  {
   "cell_type": "code",
   "execution_count": null,
   "id": "09c141f6-800c-49e8-a635-b8be52fa697e",
   "metadata": {},
   "outputs": [],
   "source": [
    "pdf(\"../figures/selectivity_auditory_units.pdf\", width=1.8, height=1.45)\n",
    "print(p)\n",
    "dev.off()"
   ]
  },
  {
   "cell_type": "markdown",
   "id": "2e465f50-64a7-480f-a73d-66491a18c18b",
   "metadata": {
    "jp-MarkdownHeadingCollapsed": true
   },
   "source": [
    "### Selectivity - activity fraction"
   ]
  },
  {
   "cell_type": "code",
   "execution_count": null,
   "id": "9a747d03-4d5f-4cdd-8441-c3192280e6e6",
   "metadata": {},
   "outputs": [],
   "source": [
    "options(repr.plot.width=4, repr.plot.height=2.5, repr.plot.res = 300)\n",
    "p <- (\n",
    "    unit_summary\n",
    "    |> filter(is_auditory)\n",
    "    |> ggplot(aes(area, activity_frac, fill=group))\n",
    "    + facet_wrap(~ spike)\n",
    "    + geom_boxplot()\n",
    "    + my.theme\n",
    ")\n",
    "p"
   ]
  },
  {
   "cell_type": "code",
   "execution_count": null,
   "id": "ec10ef47-f404-4da1-b5f7-bc36a4abcaa4",
   "metadata": {},
   "outputs": [],
   "source": [
    "## LMM\n",
    "fm_selectivity <- lmer(\n",
    "    activity_frac ~ group*area*spike + (1|site), \n",
    "    data=unit_summary |> filter(is_auditory))\n",
    "emmeans(fm_selectivity, ~ group | area*spike) |> contrast(\"pairwise\")"
   ]
  },
  {
   "cell_type": "code",
   "execution_count": null,
   "id": "1685e94b-0b21-4c33-b5ec-c6ffc185d69f",
   "metadata": {},
   "outputs": [],
   "source": [
    "options(repr.plot.width=2.6, repr.plot.height=2.6, repr.plot.res = 450)\n",
    "(\n",
    "    unit_summary\n",
    "    |> filter(is_auditory)\n",
    "    |> ggplot(aes(score, 1 - n_discrim/10, color=group))\n",
    "    + facet_grid(area ~ spike)\n",
    "    + geom_point(alpha=0.4)\n",
    "    #+ stat_smooth(method=\"lm\", linewidth=0.5)\n",
    "    + scale_x_continuous(\"Discriminability\", limits=c(0,1))\n",
    "    + scale_y_continuous(\"Selectivity\", limits=c(0, 1))\n",
    "    + theme_classic() + my.theme + no.legend\n",
    ")"
   ]
  },
  {
   "cell_type": "markdown",
   "id": "e5489dad-fed7-4f06-8277-898f9b9e1e12",
   "metadata": {},
   "source": [
    "## Population sparseness\n",
    "\n",
    "This is a quick and dirty way to look at sparseness, by calculating the proportion of units in a site that give significant responses to each motif."
   ]
  },
  {
   "cell_type": "code",
   "execution_count": null,
   "id": "3107e583-5d94-4025-933c-5ab6b471dd20",
   "metadata": {},
   "outputs": [],
   "source": [
    "(\n",
    "    unit_motif_responsive\n",
    "    |> semi_join(filter(unit_discrim, is_auditory), by=\"unit\")\n",
    "    |> group_by(unit)\n",
    "    |> arrange(desc(rate))\n",
    ")"
   ]
  },
  {
   "cell_type": "code",
   "execution_count": null,
   "id": "d9605021-cfbd-4410-8806-5719938da51d",
   "metadata": {},
   "outputs": [],
   "source": [
    "options(repr.plot.width=4, repr.plot.height=2.5, repr.plot.res = 300)\n",
    "site_n_responsive <- (\n",
    "    unit_motif_responsive\n",
    "    # only auditory units?\n",
    "    |> semi_join(filter(unit_discrim, is_auditory), by=\"unit\")\n",
    "    |> inner_join(select(unit_spike_features, unit, spike), by=\"unit\")\n",
    "    |> mutate(site=str_match(unit, \"[:alnum:]+_\\\\d+_\\\\d+\")[,1])\n",
    "    |> inner_join(all_sites, by=\"site\")\n",
    "    |> group_by(bird, group, area, spike, site, foreground)\n",
    "    |> summarize(n_units=n(), n_responsive=sum(is_responsive))\n",
    ")"
   ]
  },
  {
   "cell_type": "code",
   "execution_count": null,
   "id": "416cd4e1-1718-4e6d-9e05-3ba7f36d2062",
   "metadata": {},
   "outputs": [],
   "source": [
    "options(repr.plot.width=4, repr.plot.height=2.5, repr.plot.res = 300)\n",
    "(\n",
    "    site_n_responsive\n",
    "    |> summarize(sparseness= 1 - mean(n_responsive) / mean(n_units))\n",
    "    |> ggplot(aes(area, sparseness, fill=group))\n",
    "    + facet_grid(~ spike)\n",
    "    + geom_boxplot() # stat_summary(fun.data=\"mean_se\")\n",
    "    + theme_classic() + my.theme\n",
    ")"
   ]
  },
  {
   "cell_type": "code",
   "execution_count": null,
   "id": "a37261f5-6b6b-4dcf-8950-8af65c6d8b85",
   "metadata": {},
   "outputs": [],
   "source": [
    "## GLMM\n",
    "fm_sparseness <- glmer(\n",
    "    cbind(n_units - n_responsive, n_responsive) ~ group*area*spike + (1 + area|bird),\n",
    "    data=site_n_responsive,\n",
    "    control=glmerControl(optimizer=\"bobyqa\"),\n",
    "    family=binomial)\n",
    "emmeans(fm_sparseness, ~ group | area*spike) |> contrast(\"pairwise\")"
   ]
  },
  {
   "cell_type": "code",
   "execution_count": null,
   "id": "1c28494a-3c2e-473f-a100-1fdbae589f3e",
   "metadata": {},
   "outputs": [],
   "source": [
    "options(repr.plot.width=1.8, repr.plot.height=1.45, repr.plot.res = 450)\n",
    "p <- (\n",
    "    fm_sparseness\n",
    "    |> emmeans(~ group*spike*area, type=\"response\")\n",
    "    |> confint(level=0.90)\n",
    "    |> ggplot(aes(area, prob, color=group))\n",
    "    + facet_wrap(~ spike)\n",
    "    + geom_point(position=position_dodge(width=0.5), size=1)\n",
    "    + geom_linerange(aes(ymin=asymp.LCL, ymax=asymp.UCL), position=position_dodge(width=0.5))\n",
    "    + scale_x_discrete(name=NULL)\n",
    "    + scale_y_continuous(name=\"Sparseness\", limits=c(0,1))\n",
    "    + theme_classic() + my.theme + no.legend\n",
    ")\n",
    "p "
   ]
  },
  {
   "cell_type": "code",
   "execution_count": null,
   "id": "165b17e5-d5f9-4540-9a67-850451146ea3",
   "metadata": {},
   "outputs": [],
   "source": [
    "pdf(\"../figures/sparseness_auditory_units.pdf\", width=1.8, height=1.45)\n",
    "print(p)\n",
    "dev.off()"
   ]
  },
  {
   "cell_type": "code",
   "execution_count": null,
   "id": "411cfeb9-ae6a-4f72-a191-4d16122f60d2",
   "metadata": {},
   "outputs": [],
   "source": [
    "cr_wide <- (\n",
    "    unit_motif_responsive\n",
    "    |> inner_join(select(unit_spike_features, unit, spike), by=\"unit\")\n",
    "    |> mutate(site=str_match(unit, \"[:alnum:]+_\\\\d+_\\\\d+\")[,1])\n",
    "    |> inner_join(all_sites, by=\"site\")\n",
    "    |> filter(group==\"PR\") #, spike==\"narrow\", area==\"L3/NCM\")\n",
    ")"
   ]
  },
  {
   "cell_type": "code",
   "execution_count": null,
   "id": "6859a372-439e-43d2-871c-09b501461e61",
   "metadata": {},
   "outputs": [],
   "source": [
    "cr_wide_best_stim <- (\n",
    "    cr_wide\n",
    "    |> group_by(unit)\n",
    "    |> summarize(best_stim=foreground[which.max(estimate)], max_resp=max(estimate), selectivity=1 - mean(is_responsive))\n",
    "    |> arrange(best_stim, selectivity, max_resp)\n",
    "    # |> filter(selectivity < 1)\n",
    "    |> mutate(idx=row_number())    \n",
    ")\n",
    "cr_wide_best_stim"
   ]
  },
  {
   "cell_type": "markdown",
   "id": "accb1bb7-3716-44d4-8f3b-efec7f2638ae",
   "metadata": {},
   "source": [
    "### Principal components\n",
    "\n",
    "Another approach to measuring sparseness is to use principal components analysis to estimate the degree to which neural responses are correlated across stimulus conditions. The responses are organized into a conditions x neurons array. The principal components (row vectors) correspond to groups of neurons that covary. A sparse code should be characterized by a relatively flat eigenspectrum."
   ]
  },
  {
   "cell_type": "code",
   "execution_count": null,
   "id": "1c01e6e8-352b-419d-a56c-07896041679e",
   "metadata": {},
   "outputs": [],
   "source": [
    "(\n",
    "    cr_wide\n",
    "    |> inner_join(cr_wide_best_stim, by=\"unit\")\n",
    "    |> ggplot(aes(foreground, idx))\n",
    "    + geom_tile(mapping=aes(fill=zscore))\n",
    "    + scale_fill_gradient2()\n",
    "    + theme(axis.ticks.x=element_blank(), axis.text.x=element_blank(), axis.ticks.y=element_blank(), axis.text.y=element_blank())\n",
    ")"
   ]
  },
  {
   "cell_type": "code",
   "execution_count": null,
   "id": "e5f5cd37-1a45-426b-add5-3bf156ea7a2a",
   "metadata": {},
   "outputs": [],
   "source": [
    "options(repr.plot.width=3, repr.plot.height=3, repr.plot.res = 300)\n",
    "pca <- (\n",
    "    cr_wide\n",
    "    |> pivot_wider(id_cols=unit, names_from=foreground, values_from=zscore)\n",
    "    |> ungroup()\n",
    "    |> select(-unit)\n",
    "    |> as.matrix()\n",
    "    |> t()\n",
    "    |> prcomp()\n",
    ")\n",
    "plot(pca)"
   ]
  },
  {
   "cell_type": "code",
   "execution_count": null,
   "id": "b8f5173d-ad55-4619-95f4-29e7004431cc",
   "metadata": {},
   "outputs": [],
   "source": [
    "options(repr.plot.width=3, repr.plot.height=3, repr.plot.res = 300)\n",
    "pca <- (\n",
    "    cr_wide\n",
    "    |> pivot_wider(id_cols=unit, names_from=foreground, values_from=zscore)\n",
    "    |> ungroup()\n",
    "    |> select(-unit)\n",
    "    |> as.matrix()\n",
    "    |> t()\n",
    "    |> prcomp()\n",
    ")\n",
    "plot(pca)"
   ]
  },
  {
   "cell_type": "markdown",
   "id": "3949e2e6-91f2-46b2-9afb-deac1c5c9ac6",
   "metadata": {},
   "source": [
    "## Noise invariance\n",
    "\n",
    "Just seeing if there is anything worth reporting in this paper."
   ]
  },
  {
   "cell_type": "code",
   "execution_count": null,
   "id": "5bb29872-6d0c-478d-9c6f-7f90b536ec58",
   "metadata": {},
   "outputs": [],
   "source": [
    "(\n",
    "    unit_level_discrim\n",
    "    |> inner_join(all_sites, by=\"site\")\n",
    "    |> ggplot(aes(background_dBFS, score))\n",
    "    + facet_grid(spike ~ area)\n",
    "    + stat_summary(aes(color=group))\n",
    "    + geom_line(mapping=aes(color=group, group=unit), alpha=0.1)\n",
    "    + theme_classic() + my.theme\n",
    ")"
   ]
  },
  {
   "cell_type": "code",
   "execution_count": null,
   "id": "7930d547-1e25-42ac-aa89-68f13f06310e",
   "metadata": {},
   "outputs": [],
   "source": []
  }
 ],
 "metadata": {
  "kernelspec": {
   "display_name": "R 4.3",
   "language": "R",
   "name": "ir43"
  },
  "language_info": {
   "codemirror_mode": "r",
   "file_extension": ".r",
   "mimetype": "text/x-r-source",
   "name": "R",
   "pygments_lexer": "r",
   "version": "4.4.0"
  }
 },
 "nbformat": 4,
 "nbformat_minor": 5
}
